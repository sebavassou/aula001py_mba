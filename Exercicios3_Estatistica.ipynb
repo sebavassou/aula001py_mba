{
  "nbformat": 4,
  "nbformat_minor": 0,
  "metadata": {
    "colab": {
      "provenance": [],
      "authorship_tag": "ABX9TyPc5Mbt/+3xv6QLeFtiqcvV",
      "include_colab_link": true
    },
    "kernelspec": {
      "name": "python3",
      "display_name": "Python 3"
    },
    "language_info": {
      "name": "python"
    }
  },
  "cells": [
    {
      "cell_type": "markdown",
      "metadata": {
        "id": "view-in-github",
        "colab_type": "text"
      },
      "source": [
        "<a href=\"https://colab.research.google.com/github/sebavassou/aula001py_mba/blob/main/Exercicios3_Estatistica.ipynb\" target=\"_parent\"><img src=\"https://colab.research.google.com/assets/colab-badge.svg\" alt=\"Open In Colab\"/></a>"
      ]
    },
    {
      "cell_type": "code",
      "execution_count": null,
      "metadata": {
        "id": "20GkW20bCqNh"
      },
      "outputs": [],
      "source": []
    },
    {
      "cell_type": "markdown",
      "source": [
        "Exercícios:\n",
        "1. Escolha uma variável contínua em sua amostra e identifique sua moda, média e\n",
        "mediana.\n",
        "1.1. Anote no caderno de análise se essas medidas são coincidentes e qual a\n",
        "interpretação associada (tanto para o caso afirmativo, quanto negativo);\n",
        "1.2. Identifique também as médias geométrica e harmônica, discorrendo a\n",
        "respeito de qual delas apresenta uma melhor informação acerca da\n",
        "amostra.\n",
        "2. Exiba um histograma da variável escolhida, acrescentando:\n",
        "2.1. Uma linha vertical azul para indicar a moda;\n",
        "2.2. Uma linha vertical verde para marcar a média;\n",
        "2.3. E uma linha vertical cinza para indicar a mediana."
      ],
      "metadata": {
        "id": "yjBMaYxQC_Vl"
      }
    },
    {
      "cell_type": "code",
      "source": [
        "#Conectando ao Google Drive\n",
        "from google.colab import drive\n",
        "drive.mount('/content/drive')\n",
        "root_path = 'drive/MyDrive/'"
      ],
      "metadata": {
        "colab": {
          "base_uri": "https://localhost:8080/"
        },
        "id": "-xUUb96xDCn-",
        "outputId": "641ef9a8-6742-47cd-e5d7-934c3a504cf7"
      },
      "execution_count": 1,
      "outputs": [
        {
          "output_type": "stream",
          "name": "stdout",
          "text": [
            "Mounted at /content/drive\n"
          ]
        }
      ]
    },
    {
      "cell_type": "code",
      "source": [
        "#Fazendo a leitura do dataset\n",
        "import requests\n",
        "\n",
        "pasta = '/content/drive/MyDrive/Enap'\n",
        "arquivo = 'ideb.xlsx'\n",
        "link = 'https://github.com/stefanomozart/estatistica_descritiva/raw/refs/heads/main/dados/originais/ideb/ideb_municipios2017.xlsx'\n",
        "\n",
        "\n",
        "r = requests.get(link, stream = True)\n",
        "\n",
        "with open(f\"{pasta}/{arquivo}\", \"wb\") as file:\n",
        "    for block in r.iter_content(chunk_size = 1024):\n",
        "         if block:\n",
        "             file.write(block)"
      ],
      "metadata": {
        "id": "a4vhpH1xDnZb"
      },
      "execution_count": 2,
      "outputs": []
    },
    {
      "cell_type": "code",
      "source": [
        "import pandas as pd\n",
        "\n",
        "df = pd.read_excel(f\"{pasta}/{arquivo}\", skipfooter=3, skiprows=9)\n"
      ],
      "metadata": {
        "id": "HaGbq8EmD6CN"
      },
      "execution_count": 12,
      "outputs": []
    },
    {
      "cell_type": "code",
      "source": [
        "df.info()\n"
      ],
      "metadata": {
        "colab": {
          "base_uri": "https://localhost:8080/"
        },
        "id": "J05zaUHjEwOE",
        "outputId": "86a4f86e-737e-4178-aa92-0f71bd450bd6"
      },
      "execution_count": 7,
      "outputs": [
        {
          "output_type": "stream",
          "name": "stdout",
          "text": [
            "<class 'pandas.core.frame.DataFrame'>\n",
            "RangeIndex: 11262 entries, 0 to 11261\n",
            "Data columns (total 17 columns):\n",
            " #   Column        Non-Null Count  Dtype \n",
            "---  ------        --------------  ----- \n",
            " 0   SG_UF         11262 non-null  object\n",
            " 1   COD_MUN       11262 non-null  int64 \n",
            " 2   NO_MUNICIPIO  11262 non-null  object\n",
            " 3   REDE          11262 non-null  object\n",
            " 4   TAP_MED       11262 non-null  object\n",
            " 5   TAP_M01       11262 non-null  object\n",
            " 6   TAP_M02       11262 non-null  object\n",
            " 7   TAP_M03       11262 non-null  object\n",
            " 8   TAP_M04       11262 non-null  object\n",
            " 9   TAP_MNS       11262 non-null  object\n",
            " 10  P12           11262 non-null  object\n",
            " 11  PB12_MAT17    11262 non-null  object\n",
            " 12  PB12_PORT17   11262 non-null  object\n",
            " 13  PAD12_17      11262 non-null  object\n",
            " 14  IDEB12_17     11262 non-null  object\n",
            " 15  PROJEM_2019   11262 non-null  object\n",
            " 16  PROJEM_2021   11262 non-null  object\n",
            "dtypes: int64(1), object(16)\n",
            "memory usage: 1.5+ MB\n"
          ]
        }
      ]
    },
    {
      "cell_type": "code",
      "source": [
        "\n",
        "# Converter a coluna 'IDEB12_17' para numérico, tratando erros\n",
        "df['IDEB12_17'] = pd.to_numeric(df['IDEB12_17'], errors='coerce')\n",
        "\n",
        "# Exibir informações sobre o DataFrame atualizado\n",
        "df.info()\n",
        "\n",
        "#Agora você pode usar a coluna 'IDEB12_17' em operações numéricas.\n",
        "#Por exemplo, para calcular a média:\n",
        "media_ideb = df['IDEB12_17'].mean()\n",
        "print(f\"Média do IDEB: {media_ideb}\")\n",
        "\n",
        "# ... (rest of your code)\n"
      ],
      "metadata": {
        "colab": {
          "base_uri": "https://localhost:8080/"
        },
        "id": "NIZ4LVUKFgtR",
        "outputId": "4daee162-05a9-4096-cfef-6f415e00ee6d"
      },
      "execution_count": 14,
      "outputs": [
        {
          "output_type": "stream",
          "name": "stdout",
          "text": [
            "<class 'pandas.core.frame.DataFrame'>\n",
            "RangeIndex: 11262 entries, 0 to 11261\n",
            "Data columns (total 17 columns):\n",
            " #   Column        Non-Null Count  Dtype  \n",
            "---  ------        --------------  -----  \n",
            " 0   SG_UF         11262 non-null  object \n",
            " 1   COD_MUN       11262 non-null  int64  \n",
            " 2   NO_MUNICIPIO  11262 non-null  object \n",
            " 3   REDE          11262 non-null  object \n",
            " 4   TAP_MED       11262 non-null  object \n",
            " 5   TAP_M01       11262 non-null  object \n",
            " 6   TAP_M02       11262 non-null  object \n",
            " 7   TAP_M03       11262 non-null  object \n",
            " 8   TAP_M04       11262 non-null  object \n",
            " 9   TAP_MNS       11262 non-null  object \n",
            " 10  P12           11262 non-null  object \n",
            " 11  PB12_MAT17    11262 non-null  object \n",
            " 12  PB12_PORT17   11262 non-null  object \n",
            " 13  PAD12_17      11262 non-null  object \n",
            " 14  IDEB12_17     10914 non-null  float64\n",
            " 15  PROJEM_2019   11262 non-null  object \n",
            " 16  PROJEM_2021   11262 non-null  object \n",
            "dtypes: float64(1), int64(1), object(15)\n",
            "memory usage: 1.5+ MB\n"
          ]
        }
      ]
    },
    {
      "cell_type": "code",
      "source": [
        "media_ideb = df['IDEB12_17'].mean()\n",
        "print(f\"Média do IDEB: {media_ideb}\")\n"
      ],
      "metadata": {
        "colab": {
          "base_uri": "https://localhost:8080/"
        },
        "id": "rTiRtAj3JYoT",
        "outputId": "6e0b7be8-73d9-4bb2-f4b3-470a927b2ce4"
      },
      "execution_count": 15,
      "outputs": [
        {
          "output_type": "stream",
          "name": "stdout",
          "text": [
            "Média do IDEB: 3.6068993952721273\n"
          ]
        }
      ]
    }
  ]
}