{
  "nbformat": 4,
  "nbformat_minor": 0,
  "metadata": {
    "colab": {
      "provenance": [],
      "authorship_tag": "ABX9TyNOq8OX1eosarVm+BjIGVex",
      "include_colab_link": true
    },
    "kernelspec": {
      "name": "python3",
      "display_name": "Python 3"
    },
    "language_info": {
      "name": "python"
    }
  },
  "cells": [
    {
      "cell_type": "markdown",
      "metadata": {
        "id": "view-in-github",
        "colab_type": "text"
      },
      "source": [
        "<a href=\"https://colab.research.google.com/github/sebavassou/aula001py_mba/blob/main/Exercicios5_ED.ipynb\" target=\"_parent\"><img src=\"https://colab.research.google.com/assets/colab-badge.svg\" alt=\"Open In Colab\"/></a>"
      ]
    },
    {
      "cell_type": "code",
      "execution_count": null,
      "metadata": {
        "id": "20GkW20bCqNh"
      },
      "outputs": [],
      "source": []
    },
    {
      "cell_type": "markdown",
      "source": [
        "Exercícios\n",
        "1. Exiba um gráfico de dispersão, do tipo KDE, da sua variável contínua,\n",
        "particionado por alguma variável qualitativa.\n",
        "2. Exiba o gráfico de dispersão do tipo scatter plot de duas variáveis,\n",
        "preferencialmente contínuas, da sua amostra;\n",
        "3. Exiba gráficos do tipo violin e estude a diferença de dispersão entre subclasses\n",
        "da sua amostra.\n"
      ],
      "metadata": {
        "id": "yjBMaYxQC_Vl"
      }
    },
    {
      "cell_type": "code",
      "source": [
        "#Bibliotecas recomendadas\n",
        "import numpy as np\n",
        "import pandas as pd\n",
        "import seaborn as sns\n",
        "from scipy import stats\n",
        "import matplotlib.pyplot as plt"
      ],
      "metadata": {
        "id": "CLstFHN0gs6h"
      },
      "execution_count": 1,
      "outputs": []
    },
    {
      "cell_type": "markdown",
      "source": [
        "\n"
      ],
      "metadata": {
        "id": "rZ35d53TtaYX"
      }
    },
    {
      "cell_type": "code",
      "source": [
        "import numpy as np\n",
        "import matplotlib.pyplot as plt\n",
        "from scipy.stats import norm, expon, uniform, gamma, beta, lognorm"
      ],
      "metadata": {
        "id": "YfnBF4qCslT0"
      },
      "execution_count": 2,
      "outputs": []
    },
    {
      "cell_type": "code",
      "source": [
        "#Conectando ao Google Drive\n",
        "from google.colab import drive\n",
        "drive.mount('/content/drive')\n",
        "root_path = 'drive/MyDrive/'"
      ],
      "metadata": {
        "colab": {
          "base_uri": "https://localhost:8080/"
        },
        "id": "-xUUb96xDCn-",
        "outputId": "0a453da8-451c-4513-ed14-c80c245f6b8d"
      },
      "execution_count": 3,
      "outputs": [
        {
          "output_type": "stream",
          "name": "stdout",
          "text": [
            "Mounted at /content/drive\n"
          ]
        }
      ]
    },
    {
      "cell_type": "code",
      "source": [
        "#Fazendo a leitura do dataset\n",
        "import requests\n",
        "\n",
        "pasta = '/content/drive/MyDrive/Enap'\n",
        "arquivo = 'ideb.xlsx'\n",
        "link = 'https://github.com/stefanomozart/estatistica_descritiva/raw/refs/heads/main/dados/originais/ideb/ideb_municipios2017.xlsx'\n",
        "\n",
        "\n",
        "r = requests.get(link, stream = True)\n",
        "\n",
        "with open(f\"{pasta}/{arquivo}\", \"wb\") as file:\n",
        "    for block in r.iter_content(chunk_size = 1024):\n",
        "         if block:\n",
        "             file.write(block)"
      ],
      "metadata": {
        "id": "a4vhpH1xDnZb"
      },
      "execution_count": 4,
      "outputs": []
    },
    {
      "cell_type": "code",
      "source": [
        "df = pd.read_excel(f\"{pasta}/{arquivo}\", skipfooter=3, skiprows=9)\n"
      ],
      "metadata": {
        "id": "HaGbq8EmD6CN"
      },
      "execution_count": 5,
      "outputs": []
    },
    {
      "cell_type": "code",
      "source": [],
      "metadata": {
        "id": "AnSIVJsFgqnb"
      },
      "execution_count": null,
      "outputs": []
    },
    {
      "cell_type": "code",
      "source": [
        "df.info()\n"
      ],
      "metadata": {
        "colab": {
          "base_uri": "https://localhost:8080/"
        },
        "id": "J05zaUHjEwOE",
        "outputId": "d0c433e2-76f5-4ef0-da83-52c0b9d361a6"
      },
      "execution_count": 6,
      "outputs": [
        {
          "output_type": "stream",
          "name": "stdout",
          "text": [
            "<class 'pandas.core.frame.DataFrame'>\n",
            "RangeIndex: 11262 entries, 0 to 11261\n",
            "Data columns (total 17 columns):\n",
            " #   Column        Non-Null Count  Dtype \n",
            "---  ------        --------------  ----- \n",
            " 0   SG_UF         11262 non-null  object\n",
            " 1   COD_MUN       11262 non-null  int64 \n",
            " 2   NO_MUNICIPIO  11262 non-null  object\n",
            " 3   REDE          11262 non-null  object\n",
            " 4   TAP_MED       11262 non-null  object\n",
            " 5   TAP_M01       11262 non-null  object\n",
            " 6   TAP_M02       11262 non-null  object\n",
            " 7   TAP_M03       11262 non-null  object\n",
            " 8   TAP_M04       11262 non-null  object\n",
            " 9   TAP_MNS       11262 non-null  object\n",
            " 10  P12           11262 non-null  object\n",
            " 11  PB12_MAT17    11262 non-null  object\n",
            " 12  PB12_PORT17   11262 non-null  object\n",
            " 13  PAD12_17      11262 non-null  object\n",
            " 14  IDEB12_17     11262 non-null  object\n",
            " 15  PROJEM_2019   11262 non-null  object\n",
            " 16  PROJEM_2021   11262 non-null  object\n",
            "dtypes: int64(1), object(16)\n",
            "memory usage: 1.5+ MB\n"
          ]
        }
      ]
    },
    {
      "cell_type": "code",
      "source": [
        "\n",
        "# Converter as colunas 'IDEB12_17', 'PB12_MAT17' e para numérico, tratando erros\n",
        "df['IDEB12_17'] = pd.to_numeric(df['IDEB12_17'], errors='coerce')\n",
        "df['PB12_MAT17'] = pd.to_numeric(df['PB12_MAT17'], errors='coerce')\n",
        "df['PB12_PORT17'] = pd.to_numeric(df['PB12_PORT17'], errors='coerce')\n",
        "\n",
        "# Exibir informações sobre o DataFrame atualizado\n",
        "df.head()\n",
        "\n",
        "\n",
        "\n"
      ],
      "metadata": {
        "colab": {
          "base_uri": "https://localhost:8080/",
          "height": 261
        },
        "id": "NIZ4LVUKFgtR",
        "outputId": "1b40455d-0477-440b-ec31-ab99d881200c"
      },
      "execution_count": 7,
      "outputs": [
        {
          "output_type": "execute_result",
          "data": {
            "text/plain": [
              "  SG_UF  COD_MUN           NO_MUNICIPIO      REDE TAP_MED TAP_M01 TAP_M02  \\\n",
              "0    RO  1100015  Alta Floresta D'Oeste  Estadual    88.1      85    90.4   \n",
              "1    RO  1100015  Alta Floresta D'Oeste   Pública    88.1      85    90.4   \n",
              "2    RO  1100023              Ariquemes   Pública    84.7    80.3    85.1   \n",
              "3    RO  1100023              Ariquemes  Estadual    82.6    77.9      83   \n",
              "4    RO  1100031                 Cabixi  Estadual    94.9    92.9    94.7   \n",
              "\n",
              "  TAP_M03 TAP_M04 TAP_MNS       P12  PB12_MAT17  PB12_PORT17  PAD12_17  \\\n",
              "0    90.4       -       -  0.885253      269.38       260.96  4.379528   \n",
              "1    90.4       -       -  0.885253      269.38       260.96  4.379528   \n",
              "2    92.8    81.8      80  0.847368      269.59       268.22   4.49116   \n",
              "3    91.7       -      80  0.838216      269.10       267.82   4.47829   \n",
              "4     100       -       -  0.957734      255.98       239.01  3.862733   \n",
              "\n",
              "   IDEB12_17 PROJEM_2019 PROJEM_2021  \n",
              "0        3.9         4.1         4.3  \n",
              "1        3.9         4.1         4.3  \n",
              "2        3.8           4         4.2  \n",
              "3        3.8           4         4.2  \n",
              "4        3.7         3.9         4.1  "
            ],
            "text/html": [
              "\n",
              "  <div id=\"df-53bf8ae8-b3e8-4667-bfbd-240b3486bff2\" class=\"colab-df-container\">\n",
              "    <div>\n",
              "<style scoped>\n",
              "    .dataframe tbody tr th:only-of-type {\n",
              "        vertical-align: middle;\n",
              "    }\n",
              "\n",
              "    .dataframe tbody tr th {\n",
              "        vertical-align: top;\n",
              "    }\n",
              "\n",
              "    .dataframe thead th {\n",
              "        text-align: right;\n",
              "    }\n",
              "</style>\n",
              "<table border=\"1\" class=\"dataframe\">\n",
              "  <thead>\n",
              "    <tr style=\"text-align: right;\">\n",
              "      <th></th>\n",
              "      <th>SG_UF</th>\n",
              "      <th>COD_MUN</th>\n",
              "      <th>NO_MUNICIPIO</th>\n",
              "      <th>REDE</th>\n",
              "      <th>TAP_MED</th>\n",
              "      <th>TAP_M01</th>\n",
              "      <th>TAP_M02</th>\n",
              "      <th>TAP_M03</th>\n",
              "      <th>TAP_M04</th>\n",
              "      <th>TAP_MNS</th>\n",
              "      <th>P12</th>\n",
              "      <th>PB12_MAT17</th>\n",
              "      <th>PB12_PORT17</th>\n",
              "      <th>PAD12_17</th>\n",
              "      <th>IDEB12_17</th>\n",
              "      <th>PROJEM_2019</th>\n",
              "      <th>PROJEM_2021</th>\n",
              "    </tr>\n",
              "  </thead>\n",
              "  <tbody>\n",
              "    <tr>\n",
              "      <th>0</th>\n",
              "      <td>RO</td>\n",
              "      <td>1100015</td>\n",
              "      <td>Alta Floresta D'Oeste</td>\n",
              "      <td>Estadual</td>\n",
              "      <td>88.1</td>\n",
              "      <td>85</td>\n",
              "      <td>90.4</td>\n",
              "      <td>90.4</td>\n",
              "      <td>-</td>\n",
              "      <td>-</td>\n",
              "      <td>0.885253</td>\n",
              "      <td>269.38</td>\n",
              "      <td>260.96</td>\n",
              "      <td>4.379528</td>\n",
              "      <td>3.9</td>\n",
              "      <td>4.1</td>\n",
              "      <td>4.3</td>\n",
              "    </tr>\n",
              "    <tr>\n",
              "      <th>1</th>\n",
              "      <td>RO</td>\n",
              "      <td>1100015</td>\n",
              "      <td>Alta Floresta D'Oeste</td>\n",
              "      <td>Pública</td>\n",
              "      <td>88.1</td>\n",
              "      <td>85</td>\n",
              "      <td>90.4</td>\n",
              "      <td>90.4</td>\n",
              "      <td>-</td>\n",
              "      <td>-</td>\n",
              "      <td>0.885253</td>\n",
              "      <td>269.38</td>\n",
              "      <td>260.96</td>\n",
              "      <td>4.379528</td>\n",
              "      <td>3.9</td>\n",
              "      <td>4.1</td>\n",
              "      <td>4.3</td>\n",
              "    </tr>\n",
              "    <tr>\n",
              "      <th>2</th>\n",
              "      <td>RO</td>\n",
              "      <td>1100023</td>\n",
              "      <td>Ariquemes</td>\n",
              "      <td>Pública</td>\n",
              "      <td>84.7</td>\n",
              "      <td>80.3</td>\n",
              "      <td>85.1</td>\n",
              "      <td>92.8</td>\n",
              "      <td>81.8</td>\n",
              "      <td>80</td>\n",
              "      <td>0.847368</td>\n",
              "      <td>269.59</td>\n",
              "      <td>268.22</td>\n",
              "      <td>4.49116</td>\n",
              "      <td>3.8</td>\n",
              "      <td>4</td>\n",
              "      <td>4.2</td>\n",
              "    </tr>\n",
              "    <tr>\n",
              "      <th>3</th>\n",
              "      <td>RO</td>\n",
              "      <td>1100023</td>\n",
              "      <td>Ariquemes</td>\n",
              "      <td>Estadual</td>\n",
              "      <td>82.6</td>\n",
              "      <td>77.9</td>\n",
              "      <td>83</td>\n",
              "      <td>91.7</td>\n",
              "      <td>-</td>\n",
              "      <td>80</td>\n",
              "      <td>0.838216</td>\n",
              "      <td>269.10</td>\n",
              "      <td>267.82</td>\n",
              "      <td>4.47829</td>\n",
              "      <td>3.8</td>\n",
              "      <td>4</td>\n",
              "      <td>4.2</td>\n",
              "    </tr>\n",
              "    <tr>\n",
              "      <th>4</th>\n",
              "      <td>RO</td>\n",
              "      <td>1100031</td>\n",
              "      <td>Cabixi</td>\n",
              "      <td>Estadual</td>\n",
              "      <td>94.9</td>\n",
              "      <td>92.9</td>\n",
              "      <td>94.7</td>\n",
              "      <td>100</td>\n",
              "      <td>-</td>\n",
              "      <td>-</td>\n",
              "      <td>0.957734</td>\n",
              "      <td>255.98</td>\n",
              "      <td>239.01</td>\n",
              "      <td>3.862733</td>\n",
              "      <td>3.7</td>\n",
              "      <td>3.9</td>\n",
              "      <td>4.1</td>\n",
              "    </tr>\n",
              "  </tbody>\n",
              "</table>\n",
              "</div>\n",
              "    <div class=\"colab-df-buttons\">\n",
              "\n",
              "  <div class=\"colab-df-container\">\n",
              "    <button class=\"colab-df-convert\" onclick=\"convertToInteractive('df-53bf8ae8-b3e8-4667-bfbd-240b3486bff2')\"\n",
              "            title=\"Convert this dataframe to an interactive table.\"\n",
              "            style=\"display:none;\">\n",
              "\n",
              "  <svg xmlns=\"http://www.w3.org/2000/svg\" height=\"24px\" viewBox=\"0 -960 960 960\">\n",
              "    <path d=\"M120-120v-720h720v720H120Zm60-500h600v-160H180v160Zm220 220h160v-160H400v160Zm0 220h160v-160H400v160ZM180-400h160v-160H180v160Zm440 0h160v-160H620v160ZM180-180h160v-160H180v160Zm440 0h160v-160H620v160Z\"/>\n",
              "  </svg>\n",
              "    </button>\n",
              "\n",
              "  <style>\n",
              "    .colab-df-container {\n",
              "      display:flex;\n",
              "      gap: 12px;\n",
              "    }\n",
              "\n",
              "    .colab-df-convert {\n",
              "      background-color: #E8F0FE;\n",
              "      border: none;\n",
              "      border-radius: 50%;\n",
              "      cursor: pointer;\n",
              "      display: none;\n",
              "      fill: #1967D2;\n",
              "      height: 32px;\n",
              "      padding: 0 0 0 0;\n",
              "      width: 32px;\n",
              "    }\n",
              "\n",
              "    .colab-df-convert:hover {\n",
              "      background-color: #E2EBFA;\n",
              "      box-shadow: 0px 1px 2px rgba(60, 64, 67, 0.3), 0px 1px 3px 1px rgba(60, 64, 67, 0.15);\n",
              "      fill: #174EA6;\n",
              "    }\n",
              "\n",
              "    .colab-df-buttons div {\n",
              "      margin-bottom: 4px;\n",
              "    }\n",
              "\n",
              "    [theme=dark] .colab-df-convert {\n",
              "      background-color: #3B4455;\n",
              "      fill: #D2E3FC;\n",
              "    }\n",
              "\n",
              "    [theme=dark] .colab-df-convert:hover {\n",
              "      background-color: #434B5C;\n",
              "      box-shadow: 0px 1px 3px 1px rgba(0, 0, 0, 0.15);\n",
              "      filter: drop-shadow(0px 1px 2px rgba(0, 0, 0, 0.3));\n",
              "      fill: #FFFFFF;\n",
              "    }\n",
              "  </style>\n",
              "\n",
              "    <script>\n",
              "      const buttonEl =\n",
              "        document.querySelector('#df-53bf8ae8-b3e8-4667-bfbd-240b3486bff2 button.colab-df-convert');\n",
              "      buttonEl.style.display =\n",
              "        google.colab.kernel.accessAllowed ? 'block' : 'none';\n",
              "\n",
              "      async function convertToInteractive(key) {\n",
              "        const element = document.querySelector('#df-53bf8ae8-b3e8-4667-bfbd-240b3486bff2');\n",
              "        const dataTable =\n",
              "          await google.colab.kernel.invokeFunction('convertToInteractive',\n",
              "                                                    [key], {});\n",
              "        if (!dataTable) return;\n",
              "\n",
              "        const docLinkHtml = 'Like what you see? Visit the ' +\n",
              "          '<a target=\"_blank\" href=https://colab.research.google.com/notebooks/data_table.ipynb>data table notebook</a>'\n",
              "          + ' to learn more about interactive tables.';\n",
              "        element.innerHTML = '';\n",
              "        dataTable['output_type'] = 'display_data';\n",
              "        await google.colab.output.renderOutput(dataTable, element);\n",
              "        const docLink = document.createElement('div');\n",
              "        docLink.innerHTML = docLinkHtml;\n",
              "        element.appendChild(docLink);\n",
              "      }\n",
              "    </script>\n",
              "  </div>\n",
              "\n",
              "\n",
              "<div id=\"df-0ac27e85-ba49-472e-913f-8d31198613a0\">\n",
              "  <button class=\"colab-df-quickchart\" onclick=\"quickchart('df-0ac27e85-ba49-472e-913f-8d31198613a0')\"\n",
              "            title=\"Suggest charts\"\n",
              "            style=\"display:none;\">\n",
              "\n",
              "<svg xmlns=\"http://www.w3.org/2000/svg\" height=\"24px\"viewBox=\"0 0 24 24\"\n",
              "     width=\"24px\">\n",
              "    <g>\n",
              "        <path d=\"M19 3H5c-1.1 0-2 .9-2 2v14c0 1.1.9 2 2 2h14c1.1 0 2-.9 2-2V5c0-1.1-.9-2-2-2zM9 17H7v-7h2v7zm4 0h-2V7h2v10zm4 0h-2v-4h2v4z\"/>\n",
              "    </g>\n",
              "</svg>\n",
              "  </button>\n",
              "\n",
              "<style>\n",
              "  .colab-df-quickchart {\n",
              "      --bg-color: #E8F0FE;\n",
              "      --fill-color: #1967D2;\n",
              "      --hover-bg-color: #E2EBFA;\n",
              "      --hover-fill-color: #174EA6;\n",
              "      --disabled-fill-color: #AAA;\n",
              "      --disabled-bg-color: #DDD;\n",
              "  }\n",
              "\n",
              "  [theme=dark] .colab-df-quickchart {\n",
              "      --bg-color: #3B4455;\n",
              "      --fill-color: #D2E3FC;\n",
              "      --hover-bg-color: #434B5C;\n",
              "      --hover-fill-color: #FFFFFF;\n",
              "      --disabled-bg-color: #3B4455;\n",
              "      --disabled-fill-color: #666;\n",
              "  }\n",
              "\n",
              "  .colab-df-quickchart {\n",
              "    background-color: var(--bg-color);\n",
              "    border: none;\n",
              "    border-radius: 50%;\n",
              "    cursor: pointer;\n",
              "    display: none;\n",
              "    fill: var(--fill-color);\n",
              "    height: 32px;\n",
              "    padding: 0;\n",
              "    width: 32px;\n",
              "  }\n",
              "\n",
              "  .colab-df-quickchart:hover {\n",
              "    background-color: var(--hover-bg-color);\n",
              "    box-shadow: 0 1px 2px rgba(60, 64, 67, 0.3), 0 1px 3px 1px rgba(60, 64, 67, 0.15);\n",
              "    fill: var(--button-hover-fill-color);\n",
              "  }\n",
              "\n",
              "  .colab-df-quickchart-complete:disabled,\n",
              "  .colab-df-quickchart-complete:disabled:hover {\n",
              "    background-color: var(--disabled-bg-color);\n",
              "    fill: var(--disabled-fill-color);\n",
              "    box-shadow: none;\n",
              "  }\n",
              "\n",
              "  .colab-df-spinner {\n",
              "    border: 2px solid var(--fill-color);\n",
              "    border-color: transparent;\n",
              "    border-bottom-color: var(--fill-color);\n",
              "    animation:\n",
              "      spin 1s steps(1) infinite;\n",
              "  }\n",
              "\n",
              "  @keyframes spin {\n",
              "    0% {\n",
              "      border-color: transparent;\n",
              "      border-bottom-color: var(--fill-color);\n",
              "      border-left-color: var(--fill-color);\n",
              "    }\n",
              "    20% {\n",
              "      border-color: transparent;\n",
              "      border-left-color: var(--fill-color);\n",
              "      border-top-color: var(--fill-color);\n",
              "    }\n",
              "    30% {\n",
              "      border-color: transparent;\n",
              "      border-left-color: var(--fill-color);\n",
              "      border-top-color: var(--fill-color);\n",
              "      border-right-color: var(--fill-color);\n",
              "    }\n",
              "    40% {\n",
              "      border-color: transparent;\n",
              "      border-right-color: var(--fill-color);\n",
              "      border-top-color: var(--fill-color);\n",
              "    }\n",
              "    60% {\n",
              "      border-color: transparent;\n",
              "      border-right-color: var(--fill-color);\n",
              "    }\n",
              "    80% {\n",
              "      border-color: transparent;\n",
              "      border-right-color: var(--fill-color);\n",
              "      border-bottom-color: var(--fill-color);\n",
              "    }\n",
              "    90% {\n",
              "      border-color: transparent;\n",
              "      border-bottom-color: var(--fill-color);\n",
              "    }\n",
              "  }\n",
              "</style>\n",
              "\n",
              "  <script>\n",
              "    async function quickchart(key) {\n",
              "      const quickchartButtonEl =\n",
              "        document.querySelector('#' + key + ' button');\n",
              "      quickchartButtonEl.disabled = true;  // To prevent multiple clicks.\n",
              "      quickchartButtonEl.classList.add('colab-df-spinner');\n",
              "      try {\n",
              "        const charts = await google.colab.kernel.invokeFunction(\n",
              "            'suggestCharts', [key], {});\n",
              "      } catch (error) {\n",
              "        console.error('Error during call to suggestCharts:', error);\n",
              "      }\n",
              "      quickchartButtonEl.classList.remove('colab-df-spinner');\n",
              "      quickchartButtonEl.classList.add('colab-df-quickchart-complete');\n",
              "    }\n",
              "    (() => {\n",
              "      let quickchartButtonEl =\n",
              "        document.querySelector('#df-0ac27e85-ba49-472e-913f-8d31198613a0 button');\n",
              "      quickchartButtonEl.style.display =\n",
              "        google.colab.kernel.accessAllowed ? 'block' : 'none';\n",
              "    })();\n",
              "  </script>\n",
              "</div>\n",
              "\n",
              "    </div>\n",
              "  </div>\n"
            ],
            "application/vnd.google.colaboratory.intrinsic+json": {
              "type": "dataframe",
              "variable_name": "df",
              "summary": "{\n  \"name\": \"df\",\n  \"rows\": 11262,\n  \"fields\": [\n    {\n      \"column\": \"SG_UF\",\n      \"properties\": {\n        \"dtype\": \"category\",\n        \"num_unique_values\": 27,\n        \"samples\": [\n          \"PI\",\n          \"AL\",\n          \"CE\"\n        ],\n        \"semantic_type\": \"\",\n        \"description\": \"\"\n      }\n    },\n    {\n      \"column\": \"COD_MUN\",\n      \"properties\": {\n        \"dtype\": \"number\",\n        \"std\": 985983,\n        \"min\": 1100015,\n        \"max\": 5300108,\n        \"num_unique_values\": 5420,\n        \"samples\": [\n          4212304,\n          2607653,\n          1701051\n        ],\n        \"semantic_type\": \"\",\n        \"description\": \"\"\n      }\n    },\n    {\n      \"column\": \"NO_MUNICIPIO\",\n      \"properties\": {\n        \"dtype\": \"category\",\n        \"num_unique_values\": 5169,\n        \"samples\": [\n          \"Serrita\",\n          \"Manoel Vitorino\",\n          \"Areial\"\n        ],\n        \"semantic_type\": \"\",\n        \"description\": \"\"\n      }\n    },\n    {\n      \"column\": \"REDE\",\n      \"properties\": {\n        \"dtype\": \"category\",\n        \"num_unique_values\": 4,\n        \"samples\": [\n          \"P\\u00fablica\",\n          \"Municipal\",\n          \"Estadual\"\n        ],\n        \"semantic_type\": \"\",\n        \"description\": \"\"\n      }\n    },\n    {\n      \"column\": \"TAP_MED\",\n      \"properties\": {\n        \"dtype\": \"category\",\n        \"num_unique_values\": 466,\n        \"samples\": [\n          91.9,\n          81.8,\n          87.4\n        ],\n        \"semantic_type\": \"\",\n        \"description\": \"\"\n      }\n    },\n    {\n      \"column\": \"TAP_M01\",\n      \"properties\": {\n        \"dtype\": \"category\",\n        \"num_unique_values\": 590,\n        \"samples\": [\n          51.3,\n          95.4,\n          51\n        ],\n        \"semantic_type\": \"\",\n        \"description\": \"\"\n      }\n    },\n    {\n      \"column\": \"TAP_M02\",\n      \"properties\": {\n        \"dtype\": \"category\",\n        \"num_unique_values\": 458,\n        \"samples\": [\n          98.9,\n          74.2,\n          69.9\n        ],\n        \"semantic_type\": \"\",\n        \"description\": \"\"\n      }\n    },\n    {\n      \"column\": \"TAP_M03\",\n      \"properties\": {\n        \"dtype\": \"category\",\n        \"num_unique_values\": 377,\n        \"samples\": [\n          66,\n          78.8,\n          80.3\n        ],\n        \"semantic_type\": \"\",\n        \"description\": \"\"\n      }\n    },\n    {\n      \"column\": \"TAP_M04\",\n      \"properties\": {\n        \"dtype\": \"category\",\n        \"num_unique_values\": 290,\n        \"samples\": [\n          78.3,\n          72.5,\n          85\n        ],\n        \"semantic_type\": \"\",\n        \"description\": \"\"\n      }\n    },\n    {\n      \"column\": \"TAP_MNS\",\n      \"properties\": {\n        \"dtype\": \"category\",\n        \"num_unique_values\": 204,\n        \"samples\": [\n          83.3,\n          69.6,\n          70.1\n        ],\n        \"semantic_type\": \"\",\n        \"description\": \"\"\n      }\n    },\n    {\n      \"column\": \"P12\",\n      \"properties\": {\n        \"dtype\": \"string\",\n        \"num_unique_values\": 6273,\n        \"samples\": [\n          0.8880551364166843,\n          0.9344181295590835,\n          0.8048110627532192\n        ],\n        \"semantic_type\": \"\",\n        \"description\": \"\"\n      }\n    },\n    {\n      \"column\": \"PB12_MAT17\",\n      \"properties\": {\n        \"dtype\": \"number\",\n        \"std\": 22.961276743738253,\n        \"min\": 200.15,\n        \"max\": 414.91,\n        \"num_unique_values\": 4273,\n        \"samples\": [\n          267.13,\n          230.42000000000002,\n          235.05\n        ],\n        \"semantic_type\": \"\",\n        \"description\": \"\"\n      }\n    },\n    {\n      \"column\": \"PB12_PORT17\",\n      \"properties\": {\n        \"dtype\": \"number\",\n        \"std\": 20.483687070758418,\n        \"min\": 177.33,\n        \"max\": 371.73,\n        \"num_unique_values\": 4105,\n        \"samples\": [\n          253.0,\n          248.89000000000001,\n          245.83\n        ],\n        \"semantic_type\": \"\",\n        \"description\": \"\"\n      }\n    },\n    {\n      \"column\": \"PAD12_17\",\n      \"properties\": {\n        \"dtype\": \"string\",\n        \"num_unique_values\": 6032,\n        \"samples\": [\n          3.4837095471977393,\n          4.866071789006257,\n          4.780839164367894\n        ],\n        \"semantic_type\": \"\",\n        \"description\": \"\"\n      }\n    },\n    {\n      \"column\": \"IDEB12_17\",\n      \"properties\": {\n        \"dtype\": \"number\",\n        \"std\": 0.7183047686280216,\n        \"min\": 1.5,\n        \"max\": 7.1,\n        \"num_unique_values\": 55,\n        \"samples\": [\n          2.0,\n          4.0,\n          1.5\n        ],\n        \"semantic_type\": \"\",\n        \"description\": \"\"\n      }\n    },\n    {\n      \"column\": \"PROJEM_2019\",\n      \"properties\": {\n        \"dtype\": \"category\",\n        \"num_unique_values\": 55,\n        \"samples\": [\n          5.5,\n          4.2,\n          2.2\n        ],\n        \"semantic_type\": \"\",\n        \"description\": \"\"\n      }\n    },\n    {\n      \"column\": \"PROJEM_2021\",\n      \"properties\": {\n        \"dtype\": \"category\",\n        \"num_unique_values\": 54,\n        \"samples\": [\n          5,\n          7.1,\n          7.3\n        ],\n        \"semantic_type\": \"\",\n        \"description\": \"\"\n      }\n    }\n  ]\n}"
            }
          },
          "metadata": {},
          "execution_count": 7
        }
      ]
    },
    {
      "cell_type": "code",
      "source": [
        "# prompt: Converter colunas 'SG_UF' e 'REDE' em string\n",
        "\n",
        "# Convertendo as colunas 'SG_UF' e 'REDE' para tipo string\n",
        "df['SG_UF'] = df['SG_UF'].astype(str)\n",
        "df['REDE'] = df['REDE'].astype(str)\n",
        "\n",
        "# Verificando os tipos de dados após a conversão\n",
        "df.info()\n"
      ],
      "metadata": {
        "colab": {
          "base_uri": "https://localhost:8080/"
        },
        "id": "uoU1nkv0uwmA",
        "outputId": "9d875d36-79cc-4383-8a5d-b86dddd007e7"
      },
      "execution_count": null,
      "outputs": [
        {
          "output_type": "stream",
          "name": "stdout",
          "text": [
            "<class 'pandas.core.frame.DataFrame'>\n",
            "RangeIndex: 11262 entries, 0 to 11261\n",
            "Data columns (total 17 columns):\n",
            " #   Column        Non-Null Count  Dtype  \n",
            "---  ------        --------------  -----  \n",
            " 0   SG_UF         11262 non-null  object \n",
            " 1   COD_MUN       11262 non-null  int64  \n",
            " 2   NO_MUNICIPIO  11262 non-null  object \n",
            " 3   REDE          11262 non-null  object \n",
            " 4   TAP_MED       11262 non-null  object \n",
            " 5   TAP_M01       11262 non-null  object \n",
            " 6   TAP_M02       11262 non-null  object \n",
            " 7   TAP_M03       11262 non-null  object \n",
            " 8   TAP_M04       11262 non-null  object \n",
            " 9   TAP_MNS       11262 non-null  object \n",
            " 10  P12           11262 non-null  object \n",
            " 11  PB12_MAT17    11262 non-null  object \n",
            " 12  PB12_PORT17   11262 non-null  object \n",
            " 13  PAD12_17      11262 non-null  object \n",
            " 14  IDEB12_17     10914 non-null  float64\n",
            " 15  PROJEM_2019   11262 non-null  object \n",
            " 16  PROJEM_2021   11262 non-null  object \n",
            "dtypes: float64(1), int64(1), object(15)\n",
            "memory usage: 1.5+ MB\n"
          ]
        }
      ]
    },
    {
      "cell_type": "markdown",
      "source": [
        "# HISTOGRAMA"
      ],
      "metadata": {
        "id": "gV4SGtR8knYE"
      }
    },
    {
      "cell_type": "code",
      "source": [
        "# Plota o histograma das variáveis IDEB12_17, PB12_MAT17, e PB12_PORT17\n",
        "plt.figure(figsize=(18, 5))  # Increased figure size for multiple subplots\n",
        "\n",
        "# Plot for IDEB12_17\n",
        "plt.subplot(1, 3, 1) # Create a subplot in a 1x3 grid, this is the first plot\n",
        "sns.histplot(df['IDEB12_17'], kde=True)\n",
        "plt.title('Histograma da Variável IDEB12_17')\n",
        "plt.xlabel('IDEB12_17')\n",
        "plt.ylabel('Frequência')\n",
        "\n",
        "# Plot for PB12_MAT17\n",
        "plt.subplot(1, 3, 2) # Create a subplot in a 1x3 grid, this is the second plot\n",
        "sns.histplot(df['PB12_MAT17'], kde=True)\n",
        "plt.title('Histograma da Variável PB12_MAT17')\n",
        "plt.xlabel('PB12_MAT17')\n",
        "plt.ylabel('Frequência')\n",
        "\n",
        "# Plot for PB12_PORT17\n",
        "plt.subplot(1, 3, 3) # Create a subplot in a 1x3 grid, this is the third plot\n",
        "sns.histplot(df['PB12_PORT17'], kde=True)\n",
        "plt.title('Histograma da Variável PB12_PORT17')\n",
        "plt.xlabel('PB12_PORT17')\n",
        "plt.ylabel('Frequência')\n",
        "\n",
        "plt.tight_layout()  # Adjusts subplot parameters for a tight layout\n",
        "plt.show()"
      ],
      "metadata": {
        "colab": {
          "base_uri": "https://localhost:8080/",
          "height": 527
        },
        "id": "Nwvko5lzkSsD",
        "outputId": "6d25d532-8fe2-4599-bc37-a9539639abca"
      },
      "execution_count": 9,
      "outputs": [
        {
          "output_type": "display_data",
          "data": {
            "text/plain": [
              "<Figure size 1800x500 with 3 Axes>"
            ],
            "image/png": "[encoded data removed]"
          },
          "metadata": {}
        }
      ]
    },
    {
      "cell_type": "code",
      "source": [],
      "metadata": {
        "id": "YWZbQuLEu_QY"
      },
      "execution_count": null,
      "outputs": []
    },
    {
      "cell_type": "markdown",
      "source": [],
      "metadata": {
        "id": "8NnSgQwKkmFn"
      }
    },
    {
      "cell_type": "code",
      "source": [
        "\n",
        "# Calcular medidas de dispersão para a variável IDEB12_17\n",
        "\n",
        "# Variância amostral\n",
        "variance = df['IDEB12_17'].var()\n",
        "\n",
        "# Desvio padrão amostral\n",
        "std_dev = df['IDEB12_17'].std()\n",
        "\n",
        "# Amplitude\n",
        "amplitude = df['IDEB12_17'].max() - df['IDEB12_17'].min()\n",
        "\n",
        "# Intervalo interquartílico (IIQ)\n",
        "q1 = df['IDEB12_17'].quantile(0.25)\n",
        "q3 = df['IDEB12_17'].quantile(0.75)\n",
        "iqr = q3 - q1\n",
        "\n",
        "# Coeficiente de dispersão quartílica\n",
        "coefficient_quartile_dispersion = iqr / (q1 + q3)\n",
        "\n",
        "# Coeficiente de variação\n",
        "coefficient_variation = (std_dev / df['IDEB12_17'].mean()) * 100\n",
        "\n",
        "\n",
        "print(f\"Variância amostral: {variance}\")\n",
        "print(f\"Desvio padrão amostral: {std_dev}\")\n",
        "print(f\"Amplitude: {amplitude}\")\n",
        "print(f\"Intervalo interquartílico (IIQ): {iqr}\")\n",
        "print(f\"Coeficiente de dispersão quartílica: {coefficient_quartile_dispersion}\")\n",
        "print(f\"Coeficiente de variação: {coefficient_variation}\")\n"
      ],
      "metadata": {
        "colab": {
          "base_uri": "https://localhost:8080/"
        },
        "id": "kXrdaBrihIeU",
        "outputId": "bfad1d8b-66b4-4077-8266-eeadbb1b11a1"
      },
      "execution_count": null,
      "outputs": [
        {
          "output_type": "stream",
          "name": "stdout",
          "text": [
            "Variância amostral: 0.5159617406337557\n",
            "Desvio padrão amostral: 0.7183047686280216\n",
            "Amplitude: 5.6\n",
            "Intervalo interquartílico (IIQ): 0.9999999999999996\n",
            "Coeficiente de dispersão quartílica: 0.13888888888888884\n",
            "Coeficiente de variação: 19.91474365959764\n"
          ]
        }
      ]
    },
    {
      "cell_type": "code",
      "source": [
        "# Boxplot com intervalo interquartil\n",
        "plt.figure(figsize=(7, 4))\n",
        "sns.boxplot(x=df['IDEB12_17'])\n",
        "plt.title('Boxplot da Variável IDEB12_17')\n",
        "plt.xlabel('IDEB12_17')\n",
        "plt.show()\n"
      ],
      "metadata": {
        "colab": {
          "base_uri": "https://localhost:8080/",
          "height": 411
        },
        "id": "jEG35j0fpHh-",
        "outputId": "6f48c2a9-47be-4eb1-aa97-ca9af7683e09"
      },
      "execution_count": null,
      "outputs": [
        {
          "output_type": "display_data",
          "data": {
            "text/plain": [
              "<Figure size 700x400 with 1 Axes>"
            ],
            "image/png": "[encoded data removed]"
          },
          "metadata": {}
        }
      ]
    },
    {
      "cell_type": "code",
      "source": [
        "\n",
        "#Plot\n",
        "#Plot\n",
        "import matplotlib.pyplot as plt\n",
        "import seaborn as sns\n",
        "\n",
        "# Calcula os quartis\n",
        "q1 = df['IDEB12_17'].quantile(0.25)\n",
        "q3 = df['IDEB12_17'].quantile(0.75)\n",
        "\n",
        "# Calcula a média e o desvio padrão\n",
        "media = df['IDEB12_17'].mean()\n",
        "desvio_padrao = df['IDEB12_17'].std()\n",
        "\n",
        "# Cria o gráfico KDE\n",
        "plt.figure(figsize=(7, 4))\n",
        "sns.kdeplot(df['IDEB12_17'], fill=True)\n",
        "\n",
        "# Adiciona linhas verticais para Q1 e Q3 (cinza)\n",
        "plt.axvline(x=q1, color='gray', linestyle='--', label='Q1')\n",
        "plt.axvline(x=q3, color='gray', linestyle='--', label='Q3')\n",
        "\n",
        "\n",
        "# Adiciona linhas verticais para a média e o desvio padrão (azul)\n",
        "plt.axvline(x=media, color='blue', linestyle='-', label='Média')\n",
        "plt.axvline(x=media - desvio_padrao, color='blue', linestyle='--', label='Média - DP')\n",
        "plt.axvline(x=media + desvio_padrao, color='blue', linestyle='--', label='Média + DP')\n",
        "\n",
        "\n",
        "plt.title('Gráfico KDE do IDEB12_17 com IIQ e Desvio Padrão')\n",
        "plt.xlabel('IDEB12_17')\n",
        "plt.ylabel('Densidade')\n",
        "plt.legend()\n",
        "plt.show()\n"
      ],
      "metadata": {
        "colab": {
          "base_uri": "https://localhost:8080/",
          "height": 411
        },
        "id": "LYTuio1Pjry_",
        "outputId": "1beb3d89-cd99-451b-cbb8-690614840ba2"
      },
      "execution_count": null,
      "outputs": [
        {
          "output_type": "display_data",
          "data": {
            "text/plain": [
              "<Figure size 700x400 with 1 Axes>"
            ],
            "image/png": "[encoded data removed]"
          },
          "metadata": {}
        }
      ]
    },
    {
      "cell_type": "code",
      "source": [
        "# Calcula a assimetria (skewness)\n",
        "skewness = df['IDEB12_17'].skew()\n",
        "\n",
        "# Calcula a curtose (kurtosis)\n",
        "kurtosis = df['IDEB12_17'].kurt()\n",
        "\n",
        "print(f\"Assimetria (Skewness): {skewness}\")\n",
        "print(f\"Curtose (Kurtosis): {kurtosis}\")\n",
        "\n",
        "# Interpretação da assimetria:\n",
        "# Se skewness > 0: distribuição assimétrica positiva (cauda à direita)\n",
        "# Se skewness < 0: distribuição assimétrica negativa (cauda à esquerda)\n",
        "# Se skewness ≈ 0: distribuição simétrica\n",
        "\n",
        "# Interpretação da curtose:\n",
        "# Se kurtosis ≈ 3: distribuição mesocúrtica (semelhante à normal)\n",
        "# Se kurtosis > 3: distribuição leptocúrtica (mais concentrada, caudas pesadas)\n",
        "# Se kurtosis < 3: distribuição platicúrtica (menos concentrada, caudas leves)\n"
      ],
      "metadata": {
        "colab": {
          "base_uri": "https://localhost:8080/"
        },
        "id": "iPv2XNStvCF9",
        "outputId": "e6eafca8-7e2c-4370-9a6c-97d0653ba5e5"
      },
      "execution_count": null,
      "outputs": [
        {
          "output_type": "stream",
          "name": "stdout",
          "text": [
            "Assimetria (Skewness): 0.40575152479189386\n",
            "Curtose (Kurtosis): 0.9341874609501213\n"
          ]
        }
      ]
    },
    {
      "cell_type": "markdown",
      "source": [
        "Com base no gráfico KDE fornecido e os valores de **assimetria**, **curtose**, e **IIQ**, seguem as respostas às perguntas:\n",
        "\n",
        "---\n",
        "\n",
        "### 1. A amostra é concentrada ou dispersa?\n",
        "\n",
        "A amostra é **relativamente concentrada**. Isso pode ser observado pelos seguintes fatores:\n",
        "\n",
        "- A maior densidade de dados está em torno da média, com uma curva KDE bem definida e um pico central.\n",
        "- O intervalo interquartil (IIQ), que compreende os 50% centrais dos dados, é estreito em relação à amplitude total da distribuição.\n",
        "- O desvio padrão também é pequeno, indicando que a maioria dos valores está próxima da média.\n",
        "\n",
        "Esses elementos sugerem baixa dispersão na amostra.\n",
        "\n",
        "---\n",
        "\n",
        "### 1.2. A amplitude interna (IIQ) é proporcional à amplitude total da amostra?\n",
        "\n",
        "Não exatamente. O **IIQ** (representado pela distância entre Q1 e Q3) é uma fração significativa da amplitude total, mas não proporcional no sentido estrito:\n",
        "\n",
        "- O IIQ captura a maioria dos dados centrais (50%), enquanto a amplitude total considera os valores extremos.\n",
        "- Como a distribuição apresenta baixa assimetria positiva e curtose platicúrtica, a amplitude total é ligeiramente maior devido à presença de caudas mais longas, mas sem valores extremos significativos.\n",
        "\n",
        "Isso indica que o IIQ é uma boa representação da concentração dos dados centrais, mas não reflete toda a variabilidade presente na amostra.\n",
        "\n",
        "---\n",
        "\n",
        "### 1.3. Quais as implicações dessas informações em relação ao contexto/significado concreto dessa variável?\n",
        "\n",
        "A variável **IDEB12_17**  representa um índice educacional (IDEB - Índice de Desenvolvimento da Educação Básica). As implicações são:\n",
        "\n",
        "1. **Baixa dispersão**:\n",
        "   - A concentração dos valores indica que as  regiões avaliadas têm desempenhos educacionais relativamente homogêneos.\n",
        "   - Não há grandes desigualdades nos resultados representados por essa variável.\n",
        "\n",
        "2. **Amplitude interna (IIQ)**:\n",
        "   - Como o IIQ captura bem os valores centrais, ele reflete a \"zona típica\" de desempenho educacional para a maioria das escolas/regiões.\n",
        "   - Isso pode ser útil para identificar padrões gerais e definir metas realistas para melhoria.\n",
        "\n",
        "3. **Caudas mais leves**:\n",
        "   - A leve assimetria positiva sugere que há algumas escolas/regiões com desempenhos ligeiramente acima do padrão central, mas não são casos extremos.\n",
        "   - Isso pode indicar que políticas públicas ou intervenções específicas podem estar funcionando para evitar discrepâncias muito grandes.\n",
        "\n",
        "Em resumo, os dados sugerem um cenário educacional relativamente equilibrado, com pequenas variações positivas que podem ser exploradas para melhorar ainda mais o desempenho geral.\n",
        "\n"
      ],
      "metadata": {
        "id": "BK5iLa8DywRC"
      }
    },
    {
      "cell_type": "markdown",
      "source": [
        "Com base no gráfico KDE e nos valores de assimetria (skewness) e curtose fornecidos, podemos fazer uma análise mais completa da distribuição dos dados.\n",
        "\n",
        "---\n",
        "\n",
        "### **Análise da Assimetria (Skewness)**\n",
        "\n",
        "- **Valor da assimetria: 0.40575152479189386**\n",
        "  - A assimetria positiva indica que a distribuição tem uma leve cauda mais longa à direita.\n",
        "  - Embora o gráfico KDE pareça quase simétrico, o valor positivo da assimetria confirma que há uma pequena inclinação para valores maiores de **IDEB12_17**.\n",
        "  - Essa assimetria é considerada **baixa**, já que está próxima de zero.\n",
        "\n",
        "---\n",
        "\n",
        "### **Análise da Curtose**\n",
        "\n",
        "- **Valor da curtose: 0.9341874609501213**\n",
        "  - A curtose mede o \"achatamento\" ou \"pontualidade\" da distribuição em relação a uma normal.\n",
        "  - Um valor de curtose próximo de 3 indica uma distribuição normal (mesocúrtica).\n",
        "  - O valor fornecido (próximo de 1) sugere que a distribuição é **platicúrtica**, ou seja, mais achatada e com caudas menos extremas do que uma normal.\n",
        "  - Isso é consistente com o gráfico KDE, que mostra uma curva relativamente ampla e sem picos muito acentuados.\n",
        "\n",
        "---\n",
        "\n",
        "### **Resumo da Distribuição**\n",
        "\n",
        "1. **Forma Geral**:\n",
        "   - A distribuição é aproximadamente simétrica, com leve assimetria positiva.\n",
        "   - É mais achatada do que uma normal (platicúrtica).\n",
        "\n",
        "2. **Interpretação Estatística**:\n",
        "   - A leve assimetria indica que os valores maiores de IDEB12_17 ocorrem com um pouco mais de frequência do que os menores.\n",
        "   - A baixa curtose sugere menor probabilidade de valores extremos (outliers) em ambas as caudas.\n",
        "\n",
        "3. **Conclusão**:\n",
        "   - A distribuição dos dados é bem comportada, com pouca assimetria e caudas leves.\n",
        "   - Os valores médios e centrais são representativos das observações, enquanto os desvios padrão e o intervalo interquartil capturam bem a variabilidade.\n",
        "\n",
        "\n",
        "\n"
      ],
      "metadata": {
        "id": "bKE3mG8Bx7JT"
      }
    },
    {
      "cell_type": "code",
      "source": [],
      "metadata": {
        "id": "gUXTbAY9wDyq"
      },
      "execution_count": null,
      "outputs": []
    },
    {
      "cell_type": "code",
      "source": [],
      "metadata": {
        "id": "Nv5820LxzHjS"
      },
      "execution_count": null,
      "outputs": []
    },
    {
      "cell_type": "markdown",
      "source": [
        "Com base no gráfico KDE fornecido e nas informações sobre as medidas de dispersão (IIQ, desvio padrão) e forma (assimetria e curtose), podemos analisar a presença de outliers e propor uma forma de tratá-los.\n",
        "\n",
        "---\n",
        "\n",
        "### **Existência de Outliers**\n",
        "1. **Identificação pelo Gráfico**:\n",
        "   - O gráfico KDE mostra que a densidade dos dados diminui gradualmente nas extremidades (caudas), sem picos ou valores extremos evidentes.\n",
        "   - A leve assimetria positiva (skewness = 0.405) sugere que há uma pequena tendência para valores maiores, mas não indica outliers significativos.\n",
        "\n",
        "2. **Critério do Intervalo Interquartil (IIQ)**:\n",
        "   - O IIQ é delimitado por $$ Q1 $$\n",
        " e $$ Q3 $$\n",
        ", que representam os 25% e 75% dos dados, respectivamente.\n",
        "   - Outliers podem ser definidos como valores fora do intervalo:\n",
        "     $$\n",
        "     [Q1 - 1,5 \\times IIQ, \\, Q3 + 1,5 \\times IIQ]\n",
        "     $$\n",
        "   - No gráfico, as caudas são suaves e não ultrapassam significativamente os limites esperados para o intervalo acima, sugerindo que poucos ou nenhum outlier está presente.\n",
        "\n",
        "3. **Curtose (kurtosis = 0.934)**:\n",
        "   - A distribuição platicúrtica indica caudas leves, reforçando a ausência de valores extremos significativos.\n",
        "\n",
        "---\n",
        "\n",
        "### **Forma de Eliminar Outliers**\n",
        "Caso seja necessário tratar possíveis outliers, uma abordagem prática seria:\n",
        "\n",
        "1. **Usar o critério do IIQ**:\n",
        "   - Calcular os limites inferior ($$\n",
        " Q1 - 1,5 \\times IIQ $$) e superior ($$\n",
        " Q3 + 1,5 \\times IIQ $$).\n",
        "   - Remover valores fora desses limites.\n",
        "\n",
        "2. **Padronização por Z-Score**:\n",
        "   - Calcular o Z-score para cada dado:\n",
        "     $$\n",
        "     Z = \\frac{x - \\text{média}}{\\text{desvio padrão}}\n",
        "     $$\n",
        "   - Valores com $$\n",
        " |Z| > 3 $$ podem ser considerados outliers.\n",
        "\n",
        "3. **Impacto no Contexto**:\n",
        "   - A remoção de outliers deve ser feita com cuidado, pois pode eliminar informações relevantes.\n",
        "   - No caso do IDEB12_17 (indicador educacional), outliers podem representar escolas ou regiões com desempenhos muito baixos ou altos, o que pode ser relevante para políticas públicas.\n",
        "\n",
        "---\n",
        "\n",
        "### **Conclusão**\n",
        "O gráfico e as medidas indicam que há poucos ou nenhum outlier significativo na amostra. Caso seja necessário eliminá-los, o critério do IIQ ou a padronização por Z-score são métodos adequados. No entanto, é importante avaliar o impacto dessa remoção no contexto da análise, especialmente se os valores extremos forem relevantes para a interpretação dos resultados.\n",
        "\n",
        "*Análise realizada com auxilio de IA"
      ],
      "metadata": {
        "id": "rznsequ3z5j6"
      }
    },
    {
      "cell_type": "code",
      "source": [],
      "metadata": {
        "id": "8e78bQUxz-Gl"
      },
      "execution_count": null,
      "outputs": []
    }
  ]
}