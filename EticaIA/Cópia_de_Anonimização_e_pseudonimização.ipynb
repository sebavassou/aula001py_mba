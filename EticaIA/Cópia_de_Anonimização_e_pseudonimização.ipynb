{
  "nbformat": 4,
  "nbformat_minor": 0,
  "metadata": {
    "colab": {
      "provenance": [],
      "include_colab_link": true
    },
    "kernelspec": {
      "name": "python3",
      "display_name": "Python 3"
    },
    "language_info": {
      "name": "python"
    }
  },
  "cells": [
    {
      "cell_type": "markdown",
      "metadata": {
        "id": "view-in-github",
        "colab_type": "text"
      },
      "source": [
        "<a href=\"https://colab.research.google.com/github/sebavassou/aula001py_mba/blob/main/EticaIA/C%C3%B3pia_de_Anonimiza%C3%A7%C3%A3o_e_pseudonimiza%C3%A7%C3%A3o.ipynb\" target=\"_parent\"><img src=\"https://colab.research.google.com/assets/colab-badge.svg\" alt=\"Open In Colab\"/></a>"
      ]
    },
    {
      "cell_type": "markdown",
      "source": [
        "# Ética da IA - Explorando soluções computacionais (toy example)\n",
        "\n"
      ],
      "metadata": {
        "id": "DSs3QDWcTSGJ"
      }
    },
    {
      "cell_type": "markdown",
      "source": [
        "## Anonimização vs pseudonimização de dados\n",
        "\n",
        "*   Anonimização é o processo de remover informações que poderiam identificar um indivíduo, tornando impossível tal identificação. Uma vez que os dados estão anonimizados, não podem ser revertidos para sua forma original.\n",
        "*   Pseudonimização, por outro lado, substitui identificadores diretos (como nome e CPF) por pseudônimos ou identificadores alternativos. Este processo permite que, sob condições controladas, os dados possam ser revertidos à sua forma original.\n",
        "\n",
        "Os códigos em Python abaixo ilustram a diferença entre essas duas abordagens (através de exemplos fictícios simplificados)."
      ],
      "metadata": {
        "id": "p_gvbNwpT-cb"
      }
    },
    {
      "cell_type": "markdown",
      "source": [
        "## Anonimização\n",
        "\n",
        "Note que a Anonimização:\n",
        "* Remove completamente os identificadores pessoais\n",
        "* Agrega ou generaliza informações (ex: idade específica → faixa etária)\n",
        "* É irreversível\n",
        "* Se bem-feita, torna impossível identificar um indivíduo"
      ],
      "metadata": {
        "id": "1_ts5qIob1-Z"
      }
    },
    {
      "cell_type": "code",
      "source": [
        "from datetime import datetime\n",
        "\n",
        "class AnonimizacaoDados:\n",
        "    def __init__(self):\n",
        "\n",
        "        # Dados originais dos pacientes\n",
        "        self.dados_pacientes = [\n",
        "            {\n",
        "                \"nome\": \"João Silva\",\n",
        "                \"cpf\": \"123.456.789-00\",\n",
        "                \"data_nasc\": \"1980-05-15\",\n",
        "                \"email\": \"joao.silva@email.com\",\n",
        "                \"diagnostico\": \"Hipertensão\",\n",
        "                \"cidade\": \"São Paulo\",\n",
        "                \"salario\": 5000.00,\n",
        "                \"telefone\": \"(11) 98765-4321\"\n",
        "            },\n",
        "            {\n",
        "                \"nome\": \"Maria Santos\",\n",
        "                \"cpf\": \"987.654.321-00\",\n",
        "                \"data_nasc\": \"1992-08-23\",\n",
        "                \"email\": \"maria.santos@email.com\",\n",
        "                \"diagnostico\": \"Diabetes\",\n",
        "                \"cidade\": \"Rio de Janeiro\",\n",
        "                \"salario\": 7000.00,\n",
        "                \"telefone\": \"(21) 98765-4321\"\n",
        "            }\n",
        "        ]\n",
        "\n",
        "    # Generaliza dado: idade -> faixa etária\n",
        "    def _calcular_faixa_etaria(self, data_nasc):\n",
        "        nascimento = datetime.strptime(data_nasc, \"%Y-%m-%d\")\n",
        "        idade = (datetime.now() - nascimento).days // 365\n",
        "\n",
        "        if idade < 20: return \"0-20\"\n",
        "        elif idade < 40: return \"21-40\"\n",
        "        elif idade < 60: return \"41-60\"\n",
        "        else: return \"60+\"\n",
        "\n",
        "    # Generaliza dado: salário -> faixa salarial\n",
        "    def _calcular_faixa_salarial(self, salario):\n",
        "        if salario < 3000: return \"Até 3000\"\n",
        "        elif salario < 6000: return \"3001-6000\"\n",
        "        elif salario < 10000: return \"6001-10000\"\n",
        "        else: return \"Acima de 10000\"\n",
        "\n",
        "    # Generaliza dado: cidade -> região\n",
        "    def _obter_regiao(self, cidade):\n",
        "        regioes = {\n",
        "            \"São Paulo\": \"Sudeste\",\n",
        "            \"Rio de Janeiro\": \"Sudeste\",\n",
        "            \"Salvador\": \"Nordeste\",\n",
        "            \"Porto Alegre\": \"Sul\"\n",
        "        }\n",
        "        return regioes.get(cidade, \"Não especificada\")\n",
        "\n",
        "    def anonimizar_dados(self):\n",
        "        \"\"\"\n",
        "        Anonimização: Remove completamente informações pessoais e\n",
        "        generaliza dados de forma irreversível\n",
        "        \"\"\"\n",
        "        dados_anonimizados = []\n",
        "\n",
        "        for paciente in self.dados_pacientes:\n",
        "            dados_anonimo = { \"faixa_etaria\": self._calcular_faixa_etaria(paciente[\"data_nasc\"]),\n",
        "                \"regiao\": self._obter_regiao(paciente[\"cidade\"]),\n",
        "                \"faixa_salarial\": self._calcular_faixa_salarial(paciente[\"salario\"]),\n",
        "                \"diagnostico\": paciente[\"diagnostico\"]\n",
        "            }\n",
        "            dados_anonimizados.append(dados_anonimo)\n",
        "\n",
        "        # Apaga os dados originais\n",
        "        self.dados_pacientes = []\n",
        "\n",
        "        return dados_anonimizados\n",
        "\n",
        "    def obter_dados_originais(self):\n",
        "        return self.dados_pacientes\n",
        "\n",
        "# Demonstração\n",
        "if __name__ == \"__main__\":\n",
        "    processador = AnonimizacaoDados()\n",
        "\n",
        "    print(\"\\nDados Originais (antes da anonimização):\")\n",
        "    print(processador.obter_dados_originais())\n",
        "\n",
        "    print(\"\\nDados anonimizados:\")\n",
        "    dados_anonimizados = processador.anonimizar_dados() # chama o método que anonimiza os dados\n",
        "    for paciente in dados_anonimizados:\n",
        "        print(paciente)\n",
        "\n",
        "    print(\"\\nTentativa de recuperação dos dados originais após anonimização:\")\n",
        "    print(processador.obter_dados_originais())"
      ],
      "metadata": {
        "colab": {
          "base_uri": "https://localhost:8080/"
        },
        "id": "RauvxWnIZjms",
        "outputId": "881e2066-0b10-4b5b-abfd-af4c02232274"
      },
      "execution_count": 2,
      "outputs": [
        {
          "output_type": "stream",
          "name": "stdout",
          "text": [
            "\n",
            "Dados Originais (antes da anonimização):\n",
            "[{'nome': 'João Silva', 'cpf': '123.456.789-00', 'data_nasc': '1980-05-15', 'email': 'joao.silva@email.com', 'diagnostico': 'Hipertensão', 'cidade': 'São Paulo', 'salario': 5000.0, 'telefone': '(11) 98765-4321'}, {'nome': 'Maria Santos', 'cpf': '987.654.321-00', 'data_nasc': '1992-08-23', 'email': 'maria.santos@email.com', 'diagnostico': 'Diabetes', 'cidade': 'Rio de Janeiro', 'salario': 7000.0, 'telefone': '(21) 98765-4321'}]\n",
            "\n",
            "Dados anonimizados:\n",
            "{'faixa_etaria': '41-60', 'regiao': 'Sudeste', 'faixa_salarial': '3001-6000', 'diagnostico': 'Hipertensão'}\n",
            "{'faixa_etaria': '21-40', 'regiao': 'Sudeste', 'faixa_salarial': '6001-10000', 'diagnostico': 'Diabetes'}\n",
            "\n",
            "Tentativa de recuperação dos dados originais após anonimização:\n",
            "[]\n"
          ]
        }
      ]
    },
    {
      "cell_type": "markdown",
      "source": [
        "No exemplo ilustrativo acima, após anonimização, os dados originais foram eliminados em definitivo. Além disso, a generalização impede a identificação por meio de cruzamento de dados com outras bases.\n",
        "Não se aplica mais a LGPD."
      ],
      "metadata": {
        "id": "hi4qKHSKUlyi"
      }
    },
    {
      "cell_type": "markdown",
      "source": [
        "## Pseudonimização\n",
        "\n",
        "Note que a pseudonimização:\n",
        "* Substitui dados por pseudônimos\n",
        "* Mantém mais detalhes dos dados originais\n",
        "* É reversível sob condições controladas\n",
        "* Mantém a utilidade dos dados para análises mais detalhadas"
      ],
      "metadata": {
        "id": "-s02EfzRctJJ"
      }
    },
    {
      "cell_type": "code",
      "source": [
        "import hashlib\n",
        "\n",
        "class PseudonimizacaoDados:\n",
        "    def __init__(self):\n",
        "        self.mapeamento_pseudonimos = {} # dicionário que vai mapear os pseudônimos aos dados originais (deveria ser guardado em segurança)\n",
        "\n",
        "        # Dados originais\n",
        "        self.dados_pacientes = [\n",
        "            {\n",
        "                \"nome\": \"João Silva\",\n",
        "                \"cpf\": \"123.456.789-00\",\n",
        "                \"data_nasc\": \"1980-05-15\",\n",
        "                \"email\": \"joao.silva@email.com\",\n",
        "                \"diagnostico\": \"Hipertensão\",\n",
        "                \"cidade\": \"São Paulo\",\n",
        "                \"telefone\": \"(11) 98765-4321\"\n",
        "            },\n",
        "            {\n",
        "                \"nome\": \"Maria Santos\",\n",
        "                \"cpf\": \"987.654.321-00\",\n",
        "                \"data_nasc\": \"1992-08-23\",\n",
        "                \"email\": \"maria.santos@email.com\",\n",
        "                \"diagnostico\": \"Diabetes\",\n",
        "                \"cidade\": \"Rio de Janeiro\",\n",
        "                \"telefone\": \"(21) 98765-4321\"\n",
        "            }\n",
        "        ]\n",
        "\n",
        "    def pseudonimizar_dados(self):\n",
        "        \"\"\"\n",
        "        Pseudonimização: Substitui dados identificáveis por pseudônimos\n",
        "        que podem ser revertidos com acesso ao dicionário de mapeamento.\n",
        "        \"\"\"\n",
        "        dados_pseudonimizados = []\n",
        "\n",
        "        for paciente in self.dados_pacientes:\n",
        "            # Cria identificador único usando hash\n",
        "            identificador = hashlib.sha256(\n",
        "                (paciente[\"nome\"] + paciente[\"cpf\"]).encode()\n",
        "            ).hexdigest()[:8]\n",
        "\n",
        "            self.mapeamento_pseudonimos[identificador] = paciente # Armazena dados no dicionário de mapeamento\n",
        "\n",
        "            # Substitui dados pessoais por pseudônimos\n",
        "            dados_pseudo = {\n",
        "                \"id_paciente\": identificador,\n",
        "                \"data_nasc\": paciente[\"data_nasc\"],\n",
        "                \"diagnostico\": paciente[\"diagnostico\"],\n",
        "                \"cidade\": paciente[\"cidade\"]\n",
        "            }\n",
        "            dados_pseudonimizados.append(dados_pseudo)\n",
        "\n",
        "        self.dados_pacientes = [] # Apaga o conjunto de dados original (mas antes um mapeamento foi criado!)\n",
        "\n",
        "        return dados_pseudonimizados\n",
        "\n",
        "    # Recupera os dados originais usando o dicionário de mapeamento\n",
        "    def recuperar_dados_originais(self, identificador):\n",
        "        if identificador in self.mapeamento_pseudonimos:\n",
        "            return self.mapeamento_pseudonimos[identificador]\n",
        "        return \"Identificador não encontrado\"\n",
        "\n",
        "# Demonstração\n",
        "if __name__ == \"__main__\":\n",
        "    processador = PseudonimizacaoDados()\n",
        "\n",
        "    print(\"\\nDados Originais (antes da pseudonimização):\")\n",
        "    for paciente in processador.dados_pacientes:\n",
        "        print(paciente)\n",
        "\n",
        "    # Processo de pseudonimização\n",
        "    dados_pseudonimizados = processador.pseudonimizar_dados()\n",
        "\n",
        "    print(\"\\nDados Pseudonimizados:\")\n",
        "    for paciente in dados_pseudonimizados:\n",
        "        print(paciente)\n",
        "\n",
        "    # Tentativa de recuperação via identificador e tabela de mapeamento\n",
        "    id_exemplo = dados_pseudonimizados[0][\"id_paciente\"]\n",
        "    print(f\"\\nTentando recuperar dados originais, após pseudonimização, com acesso ao mapeamento:\")\n",
        "    dados_recuperados = processador.recuperar_dados_originais(id_exemplo)\n",
        "    print(dados_recuperados)"
      ],
      "metadata": {
        "colab": {
          "base_uri": "https://localhost:8080/"
        },
        "id": "Fl5OFw-cc8CV",
        "outputId": "a05b0c6c-3367-41d4-c593-b595c5a29bd4"
      },
      "execution_count": 4,
      "outputs": [
        {
          "output_type": "stream",
          "name": "stdout",
          "text": [
            "\n",
            "Dados Originais (antes da pseudonimização):\n",
            "{'nome': 'João Silva', 'cpf': '123.456.789-00', 'data_nasc': '1980-05-15', 'email': 'joao.silva@email.com', 'diagnostico': 'Hipertensão', 'cidade': 'São Paulo', 'telefone': '(11) 98765-4321'}\n",
            "{'nome': 'Maria Santos', 'cpf': '987.654.321-00', 'data_nasc': '1992-08-23', 'email': 'maria.santos@email.com', 'diagnostico': 'Diabetes', 'cidade': 'Rio de Janeiro', 'telefone': '(21) 98765-4321'}\n",
            "\n",
            "Dados Pseudonimizados:\n",
            "{'id_paciente': '5e6c1fbf', 'data_nasc': '1980-05-15', 'diagnostico': 'Hipertensão', 'cidade': 'São Paulo'}\n",
            "{'id_paciente': '4c3582de', 'data_nasc': '1992-08-23', 'diagnostico': 'Diabetes', 'cidade': 'Rio de Janeiro'}\n",
            "\n",
            "Tentando recuperar dados originais, após pseudonimização, com acesso ao mapeamento:\n",
            "{'nome': 'João Silva', 'cpf': '123.456.789-00', 'data_nasc': '1980-05-15', 'email': 'joao.silva@email.com', 'diagnostico': 'Hipertensão', 'cidade': 'São Paulo', 'telefone': '(11) 98765-4321'}\n"
          ]
        }
      ]
    },
    {
      "cell_type": "markdown",
      "source": [
        "Neste segundo exemplo ilustrativo, após a pseudonimização, os códigos hash (pseudônimos) foram guardados junto dos dados pessoais em um dicionário de mapeamento. O dicionário liga cada código aos respectivos dados pessoais. Isso pode ser necessário caso a organização ainda precise tratar esses dados.\n",
        "\n",
        "Note que não seria possível obter os dados originais diretamente. Mas, com acesso ao mapeamento, isso é possível. Logo, o processo é reversível. Em um exemplo real, esse dicionário de mapeamento deveria ser mantido em ambiente seguro. Ainda assim, como os dados pessoais não foram eliminados em definitivo, ainda estão sob a tutela da LGPD."
      ],
      "metadata": {
        "id": "Fif3Z5ojc9Rh"
      }
    }
  ]
}