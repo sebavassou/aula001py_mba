{
  "cells": [
    {
      "cell_type": "markdown",
      "metadata": {
        "id": "view-in-github",
        "colab_type": "text"
      },
      "source": [
        "<a href=\"https://colab.research.google.com/github/sebavassou/aula001py_mba/blob/main/Exercicios/Aula9_Exercicio.ipynb\" target=\"_parent\"><img src=\"https://colab.research.google.com/assets/colab-badge.svg\" alt=\"Open In Colab\"/></a>"
      ]
    },
    {
      "cell_type": "markdown",
      "metadata": {
        "id": "k92_GJC2OwAo"
      },
      "source": [
        "# Aula 9 - Exercício - Agregação com Pandas"
      ]
    },
    {
      "cell_type": "markdown",
      "metadata": {
        "id": "_nJJVge3PVNe"
      },
      "source": [
        "### Documentação do Autograder [Link](https://github.com/alexlopespereira/mba_enap/blob/main/Exercicios/Autograder.ipynb)\n",
        "\n",
        "\n",
        "*   Link para o gabarito das questões\n",
        "*   Imports padrão\n",
        "*   Instalação\n",
        "*   Autenticaçao para nota\n",
        "*   Validação\n",
        "\n",
        "\n"
      ]
    },
    {
      "cell_type": "code",
      "execution_count": 1,
      "metadata": {
        "id": "RkNwKAd8kJz5"
      },
      "outputs": [],
      "source": [
        "!pip install --upgrade ipynb_autograde > /dev/null"
      ]
    },
    {
      "cell_type": "code",
      "execution_count": 2,
      "metadata": {
        "id": "WxBHNGxie9BB",
        "outputId": "657cdb80-d8bd-4d7b-e4a2-7a46ed5fa38a",
        "colab": {
          "base_uri": "https://localhost:8080/"
        }
      },
      "outputs": [
        {
          "output_type": "stream",
          "name": "stdout",
          "text": [
            "env: COURSE=mba_enap\n",
            "Go to the following link in your browser, and complete the sign-in prompts:\n",
            "\n",
            "    https://accounts.google.com/o/oauth2/auth?response_type=code&client_id=32555940559.apps.googleusercontent.com&redirect_uri=https%3A%2F%2Fsdk.cloud.google.com%2Fauthcode.html&scope=openid+https%3A%2F%2Fwww.googleapis.com%2Fauth%2Fuserinfo.email+https%3A%2F%2Fwww.googleapis.com%2Fauth%2Fcloud-platform+https%3A%2F%2Fwww.googleapis.com%2Fauth%2Fappengine.admin+https%3A%2F%2Fwww.googleapis.com%2Fauth%2Fsqlservice.login+https%3A%2F%2Fwww.googleapis.com%2Fauth%2Fcompute+https%3A%2F%2Fwww.googleapis.com%2Fauth%2Faccounts.reauth&state=CKZJAVEoPudedOGExtk2HR3uHwN5AV&prompt=consent&token_usage=remote&access_type=offline&code_challenge=1N6HUlAyNtF17974s4GbbWy-CHOrH-ewOk9D9iYxBxk&code_challenge_method=S256\n",
            "\n",
            "Once finished, enter the verification code provided in your browser: 4/0ASVgi3Il7y4uzh0aXT0zohm9vl5g2BMMMdi_rLVTg7fdMtvliyBJQ6qlahbtiAzI0PY2kA\n",
            "\n",
            "You are now logged in as [seba.vassou@gmail.com].\n",
            "Your current project is [None].  You can change this setting by running:\n",
            "  $ gcloud config set project PROJECT_ID\n"
          ]
        }
      ],
      "source": [
        "%env  COURSE=mba_enap\n",
        "from ipynb_autograde.main import init_log, validate\n",
        "init_log()\n",
        "email_result=!gcloud config get-value account\n",
        "if not email_result or 'unset' in email_result[0]:\n",
        "  !gcloud auth login"
      ]
    },
    {
      "cell_type": "code",
      "execution_count": 3,
      "metadata": {
        "id": "R3jJ85H8OwAr"
      },
      "outputs": [],
      "source": [
        "# Faca o import das bibliotecas\n",
        "import pandas as pd\n",
        "import numpy as np"
      ]
    },
    {
      "cell_type": "markdown",
      "metadata": {
        "id": "ny_zhXxFOwAt"
      },
      "source": [
        "### 9.1 Escreva um prompt de uma função python para carregar os dados de população de 2017 e realizar as operações ilustradas na tabela a seguir. Retorne apenas os top 3 resultados ordenados pela soma.\n",
        "#### **Dica:** Coluna pop2017, e ```reset_index()```\n",
        "\n",
        "#### Entrada: ```'https://github.com/alexlopespereira/mba_enap/raw/refs/heads/main/data/originais/populacao/estimativa_dou_2017.xlsx'```\n",
        "\n",
        "\n",
        "### Resultado esperado: um dataframe igual a esse\n",
        "\n",
        "|    | uf   |      sum |     mean |   median |    std |\n",
        "|---:|:-----|---------:|---------:|---------:|-------:|\n",
        "|  0 | SP   | 45094866 |  69914.5 |    13810 | 489370 |\n",
        "|  1 | MG   | 21119536 |  24759.1 |     8287 | 100604 |\n",
        "|  2 | RJ   | 16718956 | 181728   |    35918 | 693337 |\n"
      ]
    },
    {
      "cell_type": "code",
      "execution_count": null,
      "metadata": {
        "id": "YASOjqDIXkMU"
      },
      "outputs": [],
      "source": [
        "d9_1_1 = 'https://github.com/alexlopespereira/mba_enap/raw/refs/heads/main/data/originais/populacao/estimativa_dou_2017.xlsx'"
      ]
    },
    {
      "cell_type": "code",
      "source": [
        "df = pd.read_excel('https://github.com/alexlopespereira/mba_enap/raw/refs/heads/main/data/originais/populacao/estimativa_dou_2017.xlsx')\n"
      ],
      "metadata": {
        "id": "bPVs1YgZN5Dm"
      },
      "execution_count": 15,
      "outputs": []
    },
    {
      "cell_type": "code",
      "source": [
        "df.info()"
      ],
      "metadata": {
        "id": "OGIG67tGOAO2",
        "outputId": "0b1a5b87-78b4-4cb6-a45f-a35c5a83d013",
        "colab": {
          "base_uri": "https://localhost:8080/"
        }
      },
      "execution_count": 18,
      "outputs": [
        {
          "output_type": "stream",
          "name": "stdout",
          "text": [
            "<class 'pandas.core.frame.DataFrame'>\n",
            "RangeIndex: 5570 entries, 0 to 5569\n",
            "Data columns (total 6 columns):\n",
            " #   Column     Non-Null Count  Dtype \n",
            "---  ------     --------------  ----- \n",
            " 0   uf         5570 non-null   object\n",
            " 1   cod_uf     5570 non-null   int64 \n",
            " 2   cod_munic  5570 non-null   int64 \n",
            " 3   cod_ibge   5570 non-null   int64 \n",
            " 4   municipio  5570 non-null   object\n",
            " 5   pop2017    5570 non-null   int64 \n",
            "dtypes: int64(4), object(2)\n",
            "memory usage: 261.2+ KB\n"
          ]
        }
      ]
    },
    {
      "cell_type": "code",
      "source": [
        "# Agrupando por UF e calculando as estatísticas\n",
        "df_agg = df.groupby('UF').agg(total_populacao=('Populacao', 'sum'), mean=('Populacao', 'mean'), median=('Populacao', 'median'), std=('Populacao', 'std')).reset_index()"
      ],
      "metadata": {
        "id": "MTdtC1GfNNCe",
        "outputId": "64e86bca-647e-4de9-c22b-7001d1398407",
        "colab": {
          "base_uri": "https://localhost:8080/",
          "height": 321
        }
      },
      "execution_count": 21,
      "outputs": [
        {
          "output_type": "error",
          "ename": "KeyError",
          "evalue": "'UF'",
          "traceback": [
            "\u001b[0;31m---------------------------------------------------------------------------\u001b[0m",
            "\u001b[0;31mKeyError\u001b[0m                                  Traceback (most recent call last)",
            "\u001b[0;32m<ipython-input-21-c2e19549a20f>\u001b[0m in \u001b[0;36m<cell line: 0>\u001b[0;34m()\u001b[0m\n\u001b[1;32m      1\u001b[0m \u001b[0;31m# Agrupando por UF e calculando as estatísticas\u001b[0m\u001b[0;34m\u001b[0m\u001b[0;34m\u001b[0m\u001b[0m\n\u001b[0;32m----> 2\u001b[0;31m \u001b[0mdf_agg\u001b[0m \u001b[0;34m=\u001b[0m \u001b[0mdf\u001b[0m\u001b[0;34m.\u001b[0m\u001b[0mgroupby\u001b[0m\u001b[0;34m(\u001b[0m\u001b[0;34m'UF'\u001b[0m\u001b[0;34m)\u001b[0m\u001b[0;34m.\u001b[0m\u001b[0magg\u001b[0m\u001b[0;34m(\u001b[0m\u001b[0mtotal_populacao\u001b[0m\u001b[0;34m=\u001b[0m\u001b[0;34m(\u001b[0m\u001b[0;34m'Populacao'\u001b[0m\u001b[0;34m,\u001b[0m \u001b[0;34m'sum'\u001b[0m\u001b[0;34m)\u001b[0m\u001b[0;34m,\u001b[0m \u001b[0mmean\u001b[0m\u001b[0;34m=\u001b[0m\u001b[0;34m(\u001b[0m\u001b[0;34m'Populacao'\u001b[0m\u001b[0;34m,\u001b[0m \u001b[0;34m'mean'\u001b[0m\u001b[0;34m)\u001b[0m\u001b[0;34m,\u001b[0m \u001b[0mmedian\u001b[0m\u001b[0;34m=\u001b[0m\u001b[0;34m(\u001b[0m\u001b[0;34m'Populacao'\u001b[0m\u001b[0;34m,\u001b[0m \u001b[0;34m'median'\u001b[0m\u001b[0;34m)\u001b[0m\u001b[0;34m,\u001b[0m \u001b[0mstd\u001b[0m\u001b[0;34m=\u001b[0m\u001b[0;34m(\u001b[0m\u001b[0;34m'Populacao'\u001b[0m\u001b[0;34m,\u001b[0m \u001b[0;34m'std'\u001b[0m\u001b[0;34m)\u001b[0m\u001b[0;34m)\u001b[0m\u001b[0;34m.\u001b[0m\u001b[0mreset_index\u001b[0m\u001b[0;34m(\u001b[0m\u001b[0;34m)\u001b[0m\u001b[0;34m\u001b[0m\u001b[0;34m\u001b[0m\u001b[0m\n\u001b[0m",
            "\u001b[0;32m/usr/local/lib/python3.11/dist-packages/pandas/core/frame.py\u001b[0m in \u001b[0;36mgroupby\u001b[0;34m(self, by, axis, level, as_index, sort, group_keys, observed, dropna)\u001b[0m\n\u001b[1;32m   9181\u001b[0m             \u001b[0;32mraise\u001b[0m \u001b[0mTypeError\u001b[0m\u001b[0;34m(\u001b[0m\u001b[0;34m\"You have to supply one of 'by' and 'level'\"\u001b[0m\u001b[0;34m)\u001b[0m\u001b[0;34m\u001b[0m\u001b[0;34m\u001b[0m\u001b[0m\n\u001b[1;32m   9182\u001b[0m \u001b[0;34m\u001b[0m\u001b[0m\n\u001b[0;32m-> 9183\u001b[0;31m         return DataFrameGroupBy(\n\u001b[0m\u001b[1;32m   9184\u001b[0m             \u001b[0mobj\u001b[0m\u001b[0;34m=\u001b[0m\u001b[0mself\u001b[0m\u001b[0;34m,\u001b[0m\u001b[0;34m\u001b[0m\u001b[0;34m\u001b[0m\u001b[0m\n\u001b[1;32m   9185\u001b[0m             \u001b[0mkeys\u001b[0m\u001b[0;34m=\u001b[0m\u001b[0mby\u001b[0m\u001b[0;34m,\u001b[0m\u001b[0;34m\u001b[0m\u001b[0;34m\u001b[0m\u001b[0m\n",
            "\u001b[0;32m/usr/local/lib/python3.11/dist-packages/pandas/core/groupby/groupby.py\u001b[0m in \u001b[0;36m__init__\u001b[0;34m(self, obj, keys, axis, level, grouper, exclusions, selection, as_index, sort, group_keys, observed, dropna)\u001b[0m\n\u001b[1;32m   1327\u001b[0m \u001b[0;34m\u001b[0m\u001b[0m\n\u001b[1;32m   1328\u001b[0m         \u001b[0;32mif\u001b[0m \u001b[0mgrouper\u001b[0m \u001b[0;32mis\u001b[0m \u001b[0;32mNone\u001b[0m\u001b[0;34m:\u001b[0m\u001b[0;34m\u001b[0m\u001b[0;34m\u001b[0m\u001b[0m\n\u001b[0;32m-> 1329\u001b[0;31m             grouper, exclusions, obj = get_grouper(\n\u001b[0m\u001b[1;32m   1330\u001b[0m                 \u001b[0mobj\u001b[0m\u001b[0;34m,\u001b[0m\u001b[0;34m\u001b[0m\u001b[0;34m\u001b[0m\u001b[0m\n\u001b[1;32m   1331\u001b[0m                 \u001b[0mkeys\u001b[0m\u001b[0;34m,\u001b[0m\u001b[0;34m\u001b[0m\u001b[0;34m\u001b[0m\u001b[0m\n",
            "\u001b[0;32m/usr/local/lib/python3.11/dist-packages/pandas/core/groupby/grouper.py\u001b[0m in \u001b[0;36mget_grouper\u001b[0;34m(obj, key, axis, level, sort, observed, validate, dropna)\u001b[0m\n\u001b[1;32m   1041\u001b[0m                 \u001b[0min_axis\u001b[0m\u001b[0;34m,\u001b[0m \u001b[0mlevel\u001b[0m\u001b[0;34m,\u001b[0m \u001b[0mgpr\u001b[0m \u001b[0;34m=\u001b[0m \u001b[0;32mFalse\u001b[0m\u001b[0;34m,\u001b[0m \u001b[0mgpr\u001b[0m\u001b[0;34m,\u001b[0m \u001b[0;32mNone\u001b[0m\u001b[0;34m\u001b[0m\u001b[0;34m\u001b[0m\u001b[0m\n\u001b[1;32m   1042\u001b[0m             \u001b[0;32melse\u001b[0m\u001b[0;34m:\u001b[0m\u001b[0;34m\u001b[0m\u001b[0;34m\u001b[0m\u001b[0m\n\u001b[0;32m-> 1043\u001b[0;31m                 \u001b[0;32mraise\u001b[0m \u001b[0mKeyError\u001b[0m\u001b[0;34m(\u001b[0m\u001b[0mgpr\u001b[0m\u001b[0;34m)\u001b[0m\u001b[0;34m\u001b[0m\u001b[0;34m\u001b[0m\u001b[0m\n\u001b[0m\u001b[1;32m   1044\u001b[0m         \u001b[0;32melif\u001b[0m \u001b[0misinstance\u001b[0m\u001b[0;34m(\u001b[0m\u001b[0mgpr\u001b[0m\u001b[0;34m,\u001b[0m \u001b[0mGrouper\u001b[0m\u001b[0;34m)\u001b[0m \u001b[0;32mand\u001b[0m \u001b[0mgpr\u001b[0m\u001b[0;34m.\u001b[0m\u001b[0mkey\u001b[0m \u001b[0;32mis\u001b[0m \u001b[0;32mnot\u001b[0m \u001b[0;32mNone\u001b[0m\u001b[0;34m:\u001b[0m\u001b[0;34m\u001b[0m\u001b[0;34m\u001b[0m\u001b[0m\n\u001b[1;32m   1045\u001b[0m             \u001b[0;31m# Add key to exclusions\u001b[0m\u001b[0;34m\u001b[0m\u001b[0;34m\u001b[0m\u001b[0m\n",
            "\u001b[0;31mKeyError\u001b[0m: 'UF'"
          ]
        }
      ]
    },
    {
      "cell_type": "code",
      "execution_count": 37,
      "metadata": {
        "id": "pP-pq8q_SqFI"
      },
      "outputs": [],
      "source": [
        "prompt91 = \"\"\"Crie uma codigo python para carregar os dados de população de 2017  e retorne um dataframe com os 3  estados com maior população, o dataframe tem  que criar ainda colunas  'mean' com a media da população , 'median' amediana da população por 'uf' e 'std' o desvio padrão por 'uf', conforme a seguinte especificação:\n",
        "Carrega dados diretamente da URL fornecida usando pd.read_excel, este será o argumento da função\n",
        "Agrega os valores por 'uf' usando quatro operações estatísticas:\n",
        "'sum' = Soma total da população ('pop2017') por 'uf'\n",
        "'mean' = Média aritmética por 'uf'\n",
        "'median' = Mediana por 'uf\n",
        "'std' = Desvio padrão por 'uf'\n",
        "Ordena os resultados 'sum'em ordem decrescente\n",
        "Mantém apenas os 3 primeiros registros\n",
        "Aplica formatação numérica para:\n",
        "Valores inteiros ('sum')\n",
        "float64 para a 'mean', 'median' e 'std'\n",
        "\n",
        "Retorne um dataframe com o resultado\"\"\""
      ]
    },
    {
      "cell_type": "code",
      "source": [],
      "metadata": {
        "id": "kmUlko7KPdJf"
      },
      "execution_count": null,
      "outputs": []
    },
    {
      "cell_type": "code",
      "execution_count": 38,
      "metadata": {
        "id": "euAQ0fkXStP0",
        "outputId": "e971e0de-c19a-4537-e67c-a8c46a77621a",
        "colab": {
          "base_uri": "https://localhost:8080/"
        }
      },
      "outputs": [
        {
          "output_type": "stream",
          "name": "stdout",
          "text": [
            "Codigo gerado: \n",
            "def process_population_data(url):\n",
            "    # Carregar os dados a partir da URL\n",
            "    df = pd.read_excel(url)\n",
            "    \n",
            "    # Agrupar os dados por 'uf' e calcular as estatísticas\n",
            "    grouped = df.groupby('uf').agg(\n",
            "        sum=('pop2017', 'sum'),\n",
            "        mean=('pop2017', 'mean'),\n",
            "        median=('pop2017', 'median'),\n",
            "        std=('pop2017', 'std')\n",
            "    ).reset_index()\n",
            "    \n",
            "    # Ordenar os resultados pela soma total da população em ordem decrescente\n",
            "    sorted_df = grouped.sort_values(by='sum', ascending=False)\n",
            "    \n",
            "    # Manter apenas os 3 primeiros registros\n",
            "    top_states = sorted_df.head(3)\n",
            "    \n",
            "    # Aplicar formatação numérica\n",
            "    top_states['sum'] = top_states['sum'].astype(int)\n",
            "    top_states['mean'] = top_states['mean'].astype(float)\n",
            "    top_states['median'] = top_states['median'].astype(float)\n",
            "    top_states['std'] = top_states['std'].astype(float)\n",
            "    \n",
            "    return top_states\n",
            "\n",
            "✅ Passed the Test Case!\n",
            "  Expected: {'data': {'aggregation_checks': {'sum': {'mean': 276401.4, 'median': 58015.0, 'std': 1283310.7, 'sum': 82933358.0}, 'total_rows': {'max': 3, 'min': 3}}, 'columns': ['uf', 'sum', 'mean', 'median', 'std'], 'dtypes': {'mean': 'float64', 'median': 'float64', 'std': 'float64', 'sum': 'int64', 'uf': 'object'}, 'sample_rows': [{'expected_values': {'sum': 45094866}, 'filter': {'uf': 'SP'}}, {'expected_values': {'sum': 16718956}, 'filter': {'uf': 'RJ'}}]}, 'type': 'dataframe', 'validation_rules': {'round_decimals': 1, 'row_match_threshold': 0.9, 'tolerance': 3}}\n",
            "  Delivered: {'aggregation_summary': {'sums': {'mean': 276401.4, 'median': 58015.0, 'std': 1283310.7, 'sum': 82933358.0}, 'total_rows': {'max': 3, 'min': 3}}, 'column_analysis': {'expected_columns': ['uf', 'sum', 'mean', 'median', 'std'], 'missing_columns': [], 'possible_matches': {}, 'provided_columns': ['uf', 'sum', 'mean', 'median', 'std'], 'unexpected_columns': []}, 'verified_samples': [{'expected_values': {'sum': 45094866}, 'filter': {'uf': 'SP'}}, {'expected_values': {'sum': 16718956}, 'filter': {'uf': 'RJ'}}]}\n"
          ]
        }
      ],
      "source": [
        "validate(prompt91, \"A9-E1\")"
      ]
    },
    {
      "cell_type": "markdown",
      "metadata": {
        "id": "T8bUoRlHS5a3"
      },
      "source": [
        "### 9.2 Escreva um prompt de uma função python para carregar os dados do dataset do Titanic e realizar as operações ilustradas na tabela a seguir.\n",
        "#### **Dica:** Soma e mediana, e ```reset_index()```\n",
        "\n",
        "#### Entrada: ```'https://github.com/alexlopespereira/mba_enap/raw/main/data/originais/titanic/titanic.xls'```\n",
        "\n",
        "\n",
        "### Resultado esperado: um dataframe igual a esse\n",
        "\n",
        "\n",
        "|    |   pclass | sex    |   survived |   fare |\n",
        "|---:|---------:|:-------|-----------:|-------:|\n",
        "|  0 |        1 | female |        139 |   80.9 |\n",
        "|  1 |        1 | male   |         61 |   49.5 |\n",
        "|  2 |        2 | female |         94 |   23   |\n",
        "|  3 |        2 | male   |         25 |   13   |\n",
        "|  4 |        3 | female |        106 |   10.5 |\n",
        "|  5 |        3 | male   |         75 |    7.9 |\n"
      ]
    },
    {
      "cell_type": "code",
      "execution_count": 39,
      "metadata": {
        "id": "4qfUCCbhXkMe"
      },
      "outputs": [],
      "source": [
        "d9_2_1 = 'https://github.com/alexlopespereira/mba_enap/raw/main/data/originais/titanic/titanic.xls'"
      ]
    },
    {
      "cell_type": "code",
      "source": [
        "##### Faça Seus testes ###\n",
        "df=pd.read_excel('https://github.com/alexlopespereira/mba_enap/raw/main/data/originais/titanic/titanic.xls')"
      ],
      "metadata": {
        "id": "26lGt8NOkSJn"
      },
      "execution_count": 41,
      "outputs": []
    },
    {
      "cell_type": "code",
      "source": [
        "df.info()"
      ],
      "metadata": {
        "id": "YRzxUpa7VNSc",
        "outputId": "9e54dd1e-21e0-4736-88a8-ccbd6d89a180",
        "colab": {
          "base_uri": "https://localhost:8080/"
        }
      },
      "execution_count": 44,
      "outputs": [
        {
          "output_type": "stream",
          "name": "stdout",
          "text": [
            "<class 'pandas.core.frame.DataFrame'>\n",
            "RangeIndex: 1309 entries, 0 to 1308\n",
            "Data columns (total 14 columns):\n",
            " #   Column     Non-Null Count  Dtype  \n",
            "---  ------     --------------  -----  \n",
            " 0   pclass     1309 non-null   int64  \n",
            " 1   survived   1309 non-null   int64  \n",
            " 2   name       1309 non-null   object \n",
            " 3   sex        1309 non-null   object \n",
            " 4   age        1046 non-null   float64\n",
            " 5   sibsp      1309 non-null   int64  \n",
            " 6   parch      1309 non-null   int64  \n",
            " 7   ticket     1309 non-null   object \n",
            " 8   fare       1308 non-null   float64\n",
            " 9   cabin      295 non-null    object \n",
            " 10  embarked   1307 non-null   object \n",
            " 11  boat       486 non-null    object \n",
            " 12  body       121 non-null    float64\n",
            " 13  home.dest  745 non-null    object \n",
            "dtypes: float64(3), int64(4), object(7)\n",
            "memory usage: 143.3+ KB\n"
          ]
        }
      ]
    },
    {
      "cell_type": "code",
      "execution_count": null,
      "metadata": {
        "id": "EKq0uHezeU1X"
      },
      "outputs": [],
      "source": [
        "prompt92 = \"\"\"AQUI\"\"\""
      ]
    },
    {
      "cell_type": "code",
      "execution_count": null,
      "metadata": {
        "id": "K2voYQypeEaD"
      },
      "outputs": [],
      "source": [
        "validate(prompt92, \"A9-E2\")"
      ]
    },
    {
      "cell_type": "markdown",
      "metadata": {
        "id": "o65FxFrYOwBF"
      },
      "source": [
        "### 9.3 Escreva uma função para realizar o agrupamento do dataset de mortalidade por UF, codigo ibge e nome do município aplicando a soma sobre as colunas Valor_total, Internações e Dias_permanência. Em seguida calcule, para todos os municípios nesta agregação, o custo médio diário das internações com a fórmula abaixo. Retorne um dataframe com os top 5 municipios segundo o custo médio de internação.\n",
        "#### **Dica:** a uf são os 2 primeiros dígitos do codigo ibge. ```reset_index()```\n",
        "#### Entrada: ```'https://github.com/alexlopespereira/mba_enap/raw/refs/heads/main/data/originais/morbidade/consolidado/morbidade.csv'```\n",
        "\n",
        "\n",
        "#### Resultado esperado: um dataframe igual a esse\n",
        "\n",
        "\n",
        "|      |   uf |   cod_ibge6 | Município             |      Valor_total |   Internações |   Dias_permanência |   custo_medio_diario_intern |\n",
        "|-----:|-----:|------------:|:----------------------|-----------------:|--------------:|-------------------:|----------------------------:|\n",
        "| 3967 |   41 |      410400 | Campina Grande do Sul |      3.32947e+07 |          7037 |              29277 |                      1137.2 |\n",
        "| 3864 |   35 |      355365 | Taquaral              | 382405           |           152 |                465 |                       822.4 |\n",
        "| 3685 |   35 |      353715 | Pedrinhas Paulista    | 769964           |           188 |               1004 |                       766.9 |\n",
        "| 3205 |   33 |      330205 | Italva                |      2.39501e+06 |           585 |               3160 |                       757.9 |\n",
        "| 3193 |   33 |      330115 | Cardoso Moreira       |      2.80194e+06 |           740 |               3840 |                       729.7 |"
      ]
    },
    {
      "cell_type": "code",
      "execution_count": null,
      "metadata": {
        "id": "zTC6RbuhXkMm"
      },
      "outputs": [],
      "source": [
        "d9_3_1 = 'https://github.com/alexlopespereira/mba_enap/raw/refs/heads/main/data/originais/morbidade/consolidado/morbidade.csv'"
      ]
    },
    {
      "cell_type": "code",
      "source": [
        "##### Faça Seus testes ###\n"
      ],
      "metadata": {
        "id": "6h0DK42gkVBm"
      },
      "execution_count": null,
      "outputs": []
    },
    {
      "cell_type": "code",
      "execution_count": null,
      "metadata": {
        "id": "MeYiPepMecVb"
      },
      "outputs": [],
      "source": [
        "prompt93 = \"\"\"AQUI\"\"\""
      ]
    },
    {
      "cell_type": "code",
      "execution_count": null,
      "metadata": {
        "id": "dRJiOiGZeGFd"
      },
      "outputs": [],
      "source": [
        "validate(prompt93, \"A9-E3\")"
      ]
    },
    {
      "cell_type": "markdown",
      "metadata": {
        "id": "gwC_H_9dOwBI"
      },
      "source": [
        "### 9.4 Crie um prompt de uma função python para retornar a soma do Valor_total dos 5 municípios (do exercício anterior) do dataset de Mortalidade (ao longo do período representado no dataset disponibilizado).\n",
        "\n",
        "#### Entradas: ```'https://github.com/alexlopespereira/mba_enap/raw/refs/heads/main/data/originais/morbidade/consolidado/morbidade.csv'``` e ```[\"410400\", \"330115\", \"330205\", \"353715\", \"355365\"]```\n",
        "\n",
        "#### Resultado esperado: um dataframe igual a esse\n",
        "|    | Município             |      Valor_total |\n",
        "|---:|:----------------------|-----------------:|\n",
        "|  0 | Campina Grande do Sul |      33294700.7 |\n",
        "|  1 | Cardoso Moreira       |      2801938.8 |\n",
        "|  2 | Italva                |      2395014.9 |\n",
        "|  3 | Pedrinhas Paulista    | 769964.0           |\n",
        "|  4 | Taquaral              | 382405.0           |\n",
        "\n"
      ]
    },
    {
      "cell_type": "code",
      "execution_count": null,
      "metadata": {
        "id": "GcLNkx4XXkMp"
      },
      "outputs": [],
      "source": [
        "d9_4_1 = 'https://github.com/alexlopespereira/mba_enap/raw/refs/heads/main/data/originais/morbidade/consolidado/morbidade.csv'\n",
        "d9_4_2 = [\"410400\", \"330115\", \"330205\", \"353715\", \"355365\"]"
      ]
    },
    {
      "cell_type": "code",
      "source": [
        "##### Faça Seus testes ###\n"
      ],
      "metadata": {
        "id": "EP7LdUizkV_5"
      },
      "execution_count": null,
      "outputs": []
    },
    {
      "cell_type": "code",
      "execution_count": null,
      "metadata": {
        "id": "xi6OzCcqepnc"
      },
      "outputs": [],
      "source": [
        "prompt94 = \"\"\"AQUI\"\"\""
      ]
    },
    {
      "cell_type": "code",
      "execution_count": null,
      "metadata": {
        "id": "zX0QjdxdeITJ"
      },
      "outputs": [],
      "source": [
        "validate(prompt94, \"A9-E4\")"
      ]
    },
    {
      "cell_type": "markdown",
      "metadata": {
        "id": "9cTqrAw0IXaY"
      },
      "source": [
        "### Exercício de Reflexão (Facultativo)\n",
        "#### Você aprendeu alguma coisa que pode ser reaproveitado em outros problemas?\n",
        "#### Como você pode melhorar seu processo de elaboração de requisitos / prompts?\n",
        "#### Você notou ambiguidade na sua especificação inicial?"
      ]
    },
    {
      "cell_type": "code",
      "execution_count": null,
      "metadata": {
        "id": "Y9yjEmHV2nKi"
      },
      "outputs": [],
      "source": [
        "resposta=\"\"\"AQUI\"\"\""
      ]
    },
    {
      "cell_type": "code",
      "execution_count": null,
      "metadata": {
        "id": "yLXjtjQaK6V1"
      },
      "outputs": [],
      "source": [
        "validate(resposta, \"A9-R1\")"
      ]
    },
    {
      "cell_type": "code",
      "execution_count": null,
      "metadata": {
        "id": "GQ9hcuF9MfJR"
      },
      "outputs": [],
      "source": []
    }
  ],
  "metadata": {
    "celltoolbar": "Create Assignment",
    "colab": {
      "provenance": [],
      "include_colab_link": true
    },
    "kernelspec": {
      "display_name": "Python 3",
      "language": "python",
      "name": "python3"
    },
    "language_info": {
      "codemirror_mode": {
        "name": "ipython",
        "version": 3
      },
      "file_extension": ".py",
      "mimetype": "text/x-python",
      "name": "python",
      "nbconvert_exporter": "python",
      "pygments_lexer": "ipython3",
      "version": "3.8.3"
    },
    "name": "_merged",
    "varInspector": {
      "cols": {
        "lenName": 16,
        "lenType": 16,
        "lenVar": 40
      },
      "kernels_config": {
        "python": {
          "delete_cmd_postfix": "",
          "delete_cmd_prefix": "del ",
          "library": "var_list.py",
          "varRefreshCmd": "print(var_dic_list())"
        },
        "r": {
          "delete_cmd_postfix": ") ",
          "delete_cmd_prefix": "rm(",
          "library": "var_list.r",
          "varRefreshCmd": "cat(var_dic_list()) "
        }
      },
      "types_to_exclude": [
        "module",
        "function",
        "builtin_function_or_method",
        "instance",
        "_Feature"
      ],
      "window_display": false
    }
  },
  "nbformat": 4,
  "nbformat_minor": 0
}