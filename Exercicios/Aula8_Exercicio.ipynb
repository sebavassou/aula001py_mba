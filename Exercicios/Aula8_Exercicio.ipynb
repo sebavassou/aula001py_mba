{
  "cells": [
    {
      "cell_type": "markdown",
      "metadata": {
        "id": "view-in-github",
        "colab_type": "text"
      },
      "source": [
        "<a href=\"https://colab.research.google.com/github/sebavassou/aula001py_mba/blob/main/Exercicios/Aula8_Exercicio.ipynb\" target=\"_parent\"><img src=\"https://colab.research.google.com/assets/colab-badge.svg\" alt=\"Open In Colab\"/></a>"
      ]
    },
    {
      "cell_type": "markdown",
      "metadata": {
        "id": "dyrfGARY5Ho9"
      },
      "source": [
        "# Aula 8 - Exercícios - Datetime e Regex"
      ]
    },
    {
      "cell_type": "markdown",
      "metadata": {
        "id": "isqhNh0K2rW7"
      },
      "source": [
        "### Documentação do Autograder [Link](https://github.com/alexlopespereira/mba_enap/blob/main/Exercicios/Autograder.ipynb)\n",
        "\n",
        "\n",
        "*   Link para o gabarito das questões\n",
        "*   Imports padrão\n",
        "*   Instalação\n",
        "*   Autenticaçao para nota\n",
        "*   Validação\n",
        "\n",
        "\n"
      ]
    },
    {
      "cell_type": "code",
      "execution_count": 1,
      "metadata": {
        "id": "RkNwKAd8kJz5"
      },
      "outputs": [],
      "source": [
        "!pip install --upgrade ipynb_autograde > /dev/null"
      ]
    },
    {
      "cell_type": "code",
      "execution_count": 2,
      "metadata": {
        "id": "WxBHNGxie9BB",
        "outputId": "72c4c71a-1acb-43c1-ac7c-d83f657c302c",
        "colab": {
          "base_uri": "https://localhost:8080/"
        }
      },
      "outputs": [
        {
          "output_type": "stream",
          "name": "stdout",
          "text": [
            "env: COURSE=mba_enap\n",
            "Go to the following link in your browser, and complete the sign-in prompts:\n",
            "\n",
            "    https://accounts.google.com/o/oauth2/auth?response_type=code&client_id=32555940559.apps.googleusercontent.com&redirect_uri=https%3A%2F%2Fsdk.cloud.google.com%2Fauthcode.html&scope=openid+https%3A%2F%2Fwww.googleapis.com%2Fauth%2Fuserinfo.email+https%3A%2F%2Fwww.googleapis.com%2Fauth%2Fcloud-platform+https%3A%2F%2Fwww.googleapis.com%2Fauth%2Fappengine.admin+https%3A%2F%2Fwww.googleapis.com%2Fauth%2Fsqlservice.login+https%3A%2F%2Fwww.googleapis.com%2Fauth%2Fcompute+https%3A%2F%2Fwww.googleapis.com%2Fauth%2Faccounts.reauth&state=BnaO0v77BqeqeUp4FczcussZXrZowZ&prompt=consent&token_usage=remote&access_type=offline&code_challenge=N8IjKrI-mXeN2TsL-fwDSMsdMeGa3s_Rj0JKHK4sX-0&code_challenge_method=S256\n",
            "\n",
            "Once finished, enter the verification code provided in your browser: 4/0ASVgi3JtEqrSAv_DfXTvVemEwLYMWTTegl25u0Hhh74Iy146rl-08EPBrlS5m0FrIoIMWg\n",
            "\n",
            "You are now logged in as [seba.vassou@gmail.com].\n",
            "Your current project is [None].  You can change this setting by running:\n",
            "  $ gcloud config set project PROJECT_ID\n"
          ]
        }
      ],
      "source": [
        "%env  COURSE=mba_enap\n",
        "from ipynb_autograde.main import init_log, validate\n",
        "init_log()\n",
        "email_result=!gcloud config get-value account\n",
        "if not email_result or 'unset' in email_result[0]:\n",
        "  !gcloud auth login"
      ]
    },
    {
      "cell_type": "code",
      "execution_count": 3,
      "metadata": {
        "id": "fzizEpSQ5HpD"
      },
      "outputs": [],
      "source": [
        "# Importe a biblioteca pandas\n",
        "import pandas as pd\n",
        "import numpy as np\n",
        "import re\n",
        "import pandas as pd\n",
        "import datetime\n",
        "from datetime import datetime, date"
      ]
    },
    {
      "cell_type": "markdown",
      "metadata": {
        "id": "IHMAEQUa5HpF"
      },
      "source": [
        "### 8.1 Escreva um prompt de uma função python que use a biblioteca de regex para extrair o padrão monstrado nos exemplos a seguir.\n",
        "\n",
        "#### Entrada 1: ```\"abbb asde ababbaaabbbabbb\"```\n",
        "\n",
        "\n",
        "#### Saída 1: ```[\"abbb\", \"abbb\", \"abbb\"]```\n",
        "\n",
        "\n",
        "#### Entrada 2: ```\"ab bb bba aaa\"```\n",
        "\n",
        "\n",
        "#### Saída 2: ```[]```\n",
        "\n",
        "#### Entrada 3: ```\"abb bb bbabbba abaaba\"```\n",
        "\n",
        "\n",
        "#### Saída 3: ```[\"abbb\"]```\n",
        "\n",
        "\n"
      ]
    },
    {
      "cell_type": "code",
      "execution_count": null,
      "metadata": {
        "id": "-hjPLU5CJ9oz"
      },
      "outputs": [],
      "source": [
        "d8_1_1 = \"abbb asde ababbaaabbbabbb\"\n",
        "d8_1_2 = \"ab bb bba aaa\"\n",
        "d8_1_3 = \"abb bb bbabbba abaaba\"\n",
        "\n"
      ]
    },
    {
      "cell_type": "code",
      "execution_count": null,
      "metadata": {
        "id": "uHOH0TBe5HpG",
        "nbgrader": {
          "grade": false,
          "grade_id": "cell-c705ab9d11473b9f9",
          "locked": false,
          "schema_version": 3,
          "solution": true,
          "task": false
        }
      },
      "outputs": [],
      "source": [
        "prompt81 = \"\"\"Crie uma função Python que utilize regex para encontrar  um padrão específico\n",
        "\n",
        "1. Receber como entrada uma string .\n",
        "2. Utilizar regex para encontrar todos os padrões \"abbb\" e retornar uma lista com estas  strings, caso não haja ocorrência retorne a lista vazia.\n",
        "\n",
        "\n",
        "\"\"\""
      ]
    },
    {
      "cell_type": "code",
      "execution_count": null,
      "metadata": {
        "id": "MKxwvOpc5HpI",
        "outputId": "7603ec25-793d-40bf-fda1-3fc1824d4be5",
        "colab": {
          "base_uri": "https://localhost:8080/"
        }
      },
      "outputs": [
        {
          "output_type": "stream",
          "name": "stdout",
          "text": [
            "Codigo gerado: \n",
            "def encontrar_padroes(texto):\n",
            "\n",
            "    padrao = r'abbb'\n",
            "    ocorrencias = re.findall(padrao, texto)\n",
            "    return ocorrencias\n",
            "\n",
            "✅ Passed Test Cases:\n",
            "  - Test ID: 1: ['abbb', 'abbb', 'abbb']\n",
            "  - Test ID: 2: []\n",
            "  - Test ID: 3: ['abbb']\n"
          ]
        }
      ],
      "source": [
        "validate(prompt81, \"A8-E1\")"
      ]
    },
    {
      "cell_type": "markdown",
      "metadata": {
        "id": "xw9NCw7u5HpK"
      },
      "source": [
        "### 8.2 Escreva um prompt de uma função python que use a biblioteca de regex para extrair o padrão monstrado nos exemplos a seguir.\n",
        "\n",
        "#### Entrada 1: ```\"33a307a\"```\n",
        "\n",
        "\n",
        "#### Saída 1: ```[]```\n",
        "\n",
        "\n",
        "#### Entrada 2: ```\"33a307\"```\n",
        "\n",
        "\n",
        "#### Saída 2: ```[\"307\"]```\n",
        "\n",
        "\n",
        "\n",
        "\n"
      ]
    },
    {
      "cell_type": "code",
      "execution_count": null,
      "metadata": {
        "id": "pHQ8GDwLJ8_R"
      },
      "outputs": [],
      "source": [
        "d8_2_1 = \"33a307a\"\n",
        "d8_2_2 = \"33a307\""
      ]
    },
    {
      "cell_type": "code",
      "source": [
        "import re\n",
        "\n",
        "pattern = r'(?<=[a-z])\\d+(?=[a-z])'\n",
        "\n",
        "entrada1 = \"33a307a\"\n",
        "entrada2 = \"33a307\"\n",
        "entrada3 = \"33a30\"\n",
        "\n",
        "resultado1 = re.findall(pattern, entrada1)\n",
        "resultado2 = re.findall(pattern, entrada2)\n",
        "resultado3 = re.findall(pattern, entrada3)\n",
        "\n",
        "print(resultado1)  # Saída: ['307']\n",
        "print(resultado2)  # Saída: []\n",
        "print(resultado3)  # Saída: []"
      ],
      "metadata": {
        "id": "PausWfopyYJK",
        "outputId": "8c614606-690e-413a-b992-0d113f6d7a2f",
        "colab": {
          "base_uri": "https://localhost:8080/"
        }
      },
      "execution_count": null,
      "outputs": [
        {
          "output_type": "stream",
          "name": "stdout",
          "text": [
            "['307']\n",
            "[]\n",
            "[]\n"
          ]
        }
      ]
    },
    {
      "cell_type": "code",
      "execution_count": null,
      "metadata": {
        "id": "O0Jvfk50CQW3",
        "nbgrader": {
          "grade": false,
          "grade_id": "cell-c705ab9d11473b9f9",
          "locked": false,
          "schema_version": 3,
          "solution": true,
          "task": false
        }
      },
      "outputs": [],
      "source": [
        "prompt82 = \"\"\"Crie uma código Python que utilize regex para encontrar  um padrão específico em uma string, com as seguintes espicificações:\n",
        "1. Importa regex\n",
        "2. Recebe o padrão = (?<=[a-z])\\d+$\n",
        "1. Receber uma string como argumento\n",
        "2. Utilizar re.findall para encontrar na entrada o padrão , retorne uma lista com o resultado , caso não haja ocorrência retorne a lista vazia.\n",
        "\"\"\""
      ]
    },
    {
      "cell_type": "code",
      "execution_count": null,
      "metadata": {
        "id": "-hCheU1DCQW-",
        "outputId": "274b3aef-e9bd-4e52-abfb-32d533af857c",
        "colab": {
          "base_uri": "https://localhost:8080/"
        }
      },
      "outputs": [
        {
          "output_type": "stream",
          "name": "stdout",
          "text": [
            "Codigo gerado: \n",
            "def encontrar_padrao(string):\n",
            "    padrao = r'(?<=[a-z])\\d+$'\n",
            "    resultado = re.findall(padrao, string)\n",
            "    return resultado\n",
            "\n",
            "✅ Passed Test Cases:\n",
            "  - Test ID: 1: []\n",
            "  - Test ID: 2: ['307']\n"
          ]
        }
      ],
      "source": [
        "validate(prompt82, \"A8-E2\")"
      ]
    },
    {
      "cell_type": "code",
      "source": [],
      "metadata": {
        "id": "ERTP-fSQvvtp"
      },
      "execution_count": null,
      "outputs": []
    },
    {
      "cell_type": "markdown",
      "metadata": {
        "id": "vVjFdewF5HpN"
      },
      "source": [
        "### 8.3 Escreva um prompt de uma função python para realizar a transformação monstrada no exemplo a seguir.\n",
        "#### **Dica:** O pandas só faz conta de datas dados do tipo datetime. Com o tipo string não é possível fazer operações matematicas de data.\n",
        "\n",
        "#### Entrada 1:  ```\"2021-05-11\"```\n",
        "\n",
        "\n",
        "#### Saída 1: ```[\"2021-05-10\", \"2021-05-12\"]```\n",
        "\n"
      ]
    },
    {
      "cell_type": "code",
      "source": [
        "import pandas as pd\n",
        "\n",
        "def transformar_data(data_str):\n",
        "    \"\"\"\n",
        "    Transforma uma data string em uma lista com o dia anterior e o dia seguinte.\n",
        "\n",
        "    Args:\n",
        "    data_str (str): Data no formato \"YYYY-MM-DD\"\n",
        "\n",
        "    Returns:\n",
        "    list: Lista contendo duas datas string no formato \"YYYY-MM-DD\",\n",
        "          representando o dia anterior e o dia seguinte à data de entrada.\n",
        "    \"\"\"\n",
        "    # Converte a string para datetime\n",
        "    data = pd.to_datetime(data_str)\n",
        "\n",
        "    # Calcula o dia anterior e o dia seguinte\n",
        "    dia_anterior = data - pd.Timedelta(days=1)\n",
        "    dia_seguinte = data + pd.Timedelta(days=1)\n",
        "\n",
        "    # Converte os resultados de volta para string no formato desejado\n",
        "    resultado = [dia_anterior.strftime('%Y-%m-%d'), dia_seguinte.strftime('%Y-%m-%d')]\n",
        "\n",
        "    return resultado\n",
        "\n",
        "# Exemplo de uso\n",
        "entrada = \"2021-05-11\"\n",
        "saida = transformar_data(entrada)\n",
        "print(f\"Entrada: {entrada}\")\n",
        "print(f\"Saída: {saida}\")"
      ],
      "metadata": {
        "id": "i5-UmPyD198n",
        "outputId": "e3dc8067-f9ed-4e37-ed90-7932af4306e6",
        "colab": {
          "base_uri": "https://localhost:8080/"
        }
      },
      "execution_count": null,
      "outputs": [
        {
          "output_type": "stream",
          "name": "stdout",
          "text": [
            "Entrada: 2021-05-11\n",
            "Saída: ['2021-05-10', '2021-05-12']\n"
          ]
        }
      ]
    },
    {
      "cell_type": "code",
      "execution_count": null,
      "metadata": {
        "id": "GKZfD7fTJ8hO"
      },
      "outputs": [],
      "source": [
        "d8_3_1 = \"2021-05-11\""
      ]
    },
    {
      "cell_type": "code",
      "execution_count": null,
      "metadata": {
        "id": "RKDeWD-fCRXP",
        "nbgrader": {
          "grade": false,
          "grade_id": "cell-c705ab9d11473b9f9",
          "locked": false,
          "schema_version": 3,
          "solution": true,
          "task": false
        }
      },
      "outputs": [],
      "source": [
        "prompt83 = \"\"\"Crie uma função no pandas que a partir da entrada de uma string, converta para o formato datetime calcule o dia anterior e posterior , converte os resultados de volta para string no formato 'YYYY-MM-DD' retorne o resultado em uma lista com as strings  \"\"\""
      ]
    },
    {
      "cell_type": "code",
      "execution_count": null,
      "metadata": {
        "id": "2xb2vzFeCRXR",
        "outputId": "f098862f-c8dc-4547-ec32-4d539d1c4537",
        "colab": {
          "base_uri": "https://localhost:8080/"
        }
      },
      "outputs": [
        {
          "output_type": "stream",
          "name": "stdout",
          "text": [
            "Codigo gerado: \n",
            "def calcular_dias(string_data):\n",
            "    # Converte a string de entrada para o formato datetime\n",
            "    data = pd.to_datetime(string_data)\n",
            "    \n",
            "    # Calcula o dia anterior e o dia posterior\n",
            "    dia_anterior = data - pd.Timedelta(days=1)\n",
            "    dia_posterior = data + pd.Timedelta(days=1)\n",
            "    \n",
            "    # Converte os resultados de volta para strings no formato 'YYYY-MM-DD'\n",
            "    resultado = [dia_anterior.strftime('%Y-%m-%d'), dia_posterior.strftime('%Y-%m-%d')]\n",
            "    \n",
            "    return resultado\n",
            "\n",
            "✅ Passed the Test Case!\n",
            "  Expected: ['2021-05-10', '2021-05-12']\n",
            "  Delivered: ['2021-05-10', '2021-05-12']\n"
          ]
        }
      ],
      "source": [
        "validate(prompt83, \"A8-E3\")"
      ]
    },
    {
      "cell_type": "markdown",
      "metadata": {
        "id": "cO1eUMZh5HpR"
      },
      "source": [
        "### 8.4 Escreva um prompt de uma função python para realizar a transformação monstrada no exemplo a seguir.\n",
        "#### **Dica:** O pandas só faz conta de datas dados do tipo datetime. Com o tipo string não é possível fazer operações matematicas de data.\n",
        "\n",
        "#### Entrada: ```{\"data\": [\"2011-09-02\", \"2012-08-04\", \"2013-09-03\"], \"0\": [-0.96, -0.05, -0.42]}```\n",
        "\n",
        "\n",
        "#### Saída:\n",
        "\n",
        "\n",
        "|    | data      |     0 |   mes |\n",
        "|---:|:-----------|------:|------:|\n",
        "|  0 | 2011-09-02 | -0.96 |     9 |\n",
        "|  1 | 2012-08-04 | -0.05 |     8 |\n",
        "|  2 | 2013-09-03 | -0.42 |     9 |\n"
      ]
    },
    {
      "cell_type": "code",
      "source": [
        "def transform_data(data):\n",
        "    import pandas as pd\n",
        "\n",
        "    # Criar o DataFrame a partir do dicionário de entrada\n",
        "    df = pd.DataFrame(data)\n",
        "\n",
        "    # Converter a coluna 'data' para o tipo datetime\n",
        "    df['data'] = pd.to_datetime(df['data'])\n",
        "\n",
        "    # Extrair o mês da coluna 'data' e criar uma nova coluna 'mes'\n",
        "    df['mes'] = df['data'].dt.month\n",
        "\n",
        "    # Reordenar as colunas para o formato desejado\n",
        "    df = df[['data', '0', 'mes']]\n",
        "\n",
        "    return df\n",
        "\n"
      ],
      "metadata": {
        "id": "9W8wlS-R4HjQ"
      },
      "execution_count": null,
      "outputs": []
    },
    {
      "cell_type": "code",
      "execution_count": null,
      "metadata": {
        "id": "Jm92RDL5J7we"
      },
      "outputs": [],
      "source": [
        "d8_4_1 = {\"data\": [\"2011-09-02\", \"2012-08-04\", \"2013-09-03\"], \"0\": [-0.96, -0.05, -0.42]}"
      ]
    },
    {
      "cell_type": "code",
      "execution_count": null,
      "metadata": {
        "id": "XukvxTEECSVo",
        "nbgrader": {
          "grade": false,
          "grade_id": "cell-c705ab9d11473b9f9",
          "locked": false,
          "schema_version": 3,
          "solution": true,
          "task": false
        }
      },
      "outputs": [],
      "source": [
        "prompt84 = \"\"\"Crie uma função python  que receba um dicionário como entrada. Esse dicionário terá duas chaves 'data' e '0'. A função deverá criar um dataframe a partir do dicionário de entrada com as seguintes especificações:\n",
        "Converter a coluna 'data' para datetime, utilize errors='coerce';\n",
        "Extrair o mês da coluna 'data' e criar uma nova coluna mês\n",
        "Reordenar as colunas para 'data', '0','mes'\n",
        "Converta a coluna 'data' para objeto\n",
        "Retornar o dataframe \"\"\""
      ]
    },
    {
      "cell_type": "code",
      "execution_count": null,
      "metadata": {
        "id": "sfnmg1u2CSVr",
        "outputId": "cd245080-27ea-4049-b6b5-985ef677763a",
        "colab": {
          "base_uri": "https://localhost:8080/"
        }
      },
      "outputs": [
        {
          "output_type": "stream",
          "name": "stdout",
          "text": [
            "Codigo gerado: \n",
            "def process_dataframe(input_dict):\n",
            "    df = pd.DataFrame(input_dict)\n",
            "    df['data'] = pd.to_datetime(df['data'], errors='coerce')\n",
            "    df['mes'] = df['data'].dt.month\n",
            "    df = df[['data', '0', 'mes']]\n",
            "    df['data'] = df['data'].astype(object)\n",
            "    return df\n",
            "\n",
            "✅ Passed the Test Case!\n",
            "  Expected: {'data': {'aggregation_checks': {'sum': {'0': -1.5, 'mes': 26.0}, 'total_rows': {'max': 3, 'min': 3}}, 'columns': ['data', '0', 'mes'], 'dtypes': {'0': 'float64', 'data': 'object', 'mes': 'int32'}, 'sample_rows': [{'expected_values': {'mes': 9}, 'filter': {'0': -0.96}}]}, 'type': 'dataframe', 'validation_rules': {'round_decimals': 1, 'row_match_threshold': 0.01, 'tolerance': 3}}\n",
            "  Delivered: {'aggregation_summary': {'sums': {'0': -1.5, 'mes': 26.0}, 'total_rows': {'max': 3, 'min': 3}}, 'column_analysis': {'expected_columns': ['data', '0', 'mes'], 'missing_columns': [], 'possible_matches': {}, 'provided_columns': ['data', '0', 'mes'], 'unexpected_columns': []}, 'verified_samples': [{'expected_values': {'mes': 9}, 'filter': {'0': -0.96}}]}\n"
          ]
        }
      ],
      "source": [
        "validate(prompt84, \"A8-E4\")"
      ]
    },
    {
      "cell_type": "markdown",
      "metadata": {
        "id": "nzEJf3jHAl1w"
      },
      "source": [
        "### 8.5 Escreva um prompt de uma função python utilizando a biblioteca de regex para extrair o padrão monstrado nos exemplos a seguir.\n",
        "\n",
        "#### Entrada: ```[\"(16) 91231-6165\", \"(16) 3231-6165\", \"16 91231-6165\", \"16 3231-6164\", \"3231-6165\", \"91231-616\"]```\n",
        "\n",
        "\n",
        "#### Saída: ```[\"(16) 91231-6165\", \"(16) 3231-6165\", \"16 91231-6165\", \"16 3231-6164\"]```\n"
      ]
    },
    {
      "cell_type": "code",
      "source": [
        "import re\n",
        "\n",
        "def extract_valid_phone_numbers(phone_list):\n",
        "    \"\"\"\n",
        "    Extrai números de telefone válidos de uma lista de strings.\n",
        "\n",
        "    Args:\n",
        "    phone_list (list): Lista de strings contendo possíveis números de telefone.\n",
        "\n",
        "    Returns:\n",
        "    list: Lista contendo apenas os números de telefone válidos.\n",
        "    \"\"\"\n",
        "    pattern = r'^\\(?(\\d{2})\\)?\\s?(\\d{4,5}-\\d{4})$'\n",
        "    return [phone for phone in phone_list if re.match(pattern, phone)]"
      ],
      "metadata": {
        "id": "BAv75Iz6Aj9Z"
      },
      "execution_count": null,
      "outputs": []
    },
    {
      "cell_type": "code",
      "execution_count": null,
      "metadata": {
        "id": "Sq-1l0nZJ7Mo"
      },
      "outputs": [],
      "source": [
        "d8_5_1 = [\"(16) 91231-6165\", \"(16) 3231-6165\", \"16 91231-6165\", \"16 3231-6164\", \"3231-6165\", \"91231-616\"]"
      ]
    },
    {
      "cell_type": "code",
      "execution_count": null,
      "metadata": {
        "id": "lmcuYdJ8CTJc",
        "nbgrader": {
          "grade": false,
          "grade_id": "cell-c705ab9d11473b9f9",
          "locked": false,
          "schema_version": 3,
          "solution": true,
          "task": false
        }
      },
      "outputs": [],
      "source": [
        "prompt85 = \"\"\"Crie uma função em Python que utilize a biblioteca regex para filtrar números de telefone válidos de uma lista de strings. A função deve seguir estas especificações:\n",
        "import re\n",
        "Nome da função: extract_valid_phone_numbers\n",
        "Parâmetro de entrada: Uma lista de strings contendo possíveis números de telefone\n",
        "Retorno: Uma lista contendo apenas os números de telefone válidos\n",
        "Os números de telefone válidos devem seguir este padrão:\n",
        "Podem ou não ter parênteses ao redor do código de área\n",
        "Podem ou não ter um espaço após o código de área\n",
        "Devem ter um código de área de dois dígitos\n",
        "O número principal deve ter 8 ou 9 dígitos, separados por um hífen (4 ou 5 dígitos antes do hífen, 4 dígitos após)\"\"\""
      ]
    },
    {
      "cell_type": "code",
      "execution_count": null,
      "metadata": {
        "id": "G8ekZAXSCTJc",
        "outputId": "698abb84-adab-46b6-c666-33531cda19fc",
        "colab": {
          "base_uri": "https://localhost:8080/"
        }
      },
      "outputs": [
        {
          "output_type": "stream",
          "name": "stdout",
          "text": [
            "Codigo gerado: \n",
            "def extract_valid_phone_numbers(phone_list):\n",
            "    valid_phone_pattern = r'^\\(?\\d{2}\\)? ?\\d{4,5}-\\d{4}$'\n",
            "    valid_numbers = [phone for phone in phone_list if re.match(valid_phone_pattern, phone)]\n",
            "    return valid_numbers\n",
            "\n",
            "✅ Passed the Test Case!\n",
            "  Expected: ['(16) 91231-6165', '(16) 3231-6165', '16 91231-6165', '16 3231-6164']\n",
            "  Delivered: ['(16) 91231-6165', '(16) 3231-6165', '16 91231-6165', '16 3231-6164']\n"
          ]
        }
      ],
      "source": [
        "validate(prompt85, \"A8-E5\")"
      ]
    },
    {
      "cell_type": "markdown",
      "metadata": {
        "id": "0vsm5KZhAwHD"
      },
      "source": [
        "### 8.6 Escreva um prompt de uma função python para realizar a transformação monstrada no exemplo a seguir.\n",
        "#### **Dica:** Ultimo dia útil do **mês**. O pandas só faz conta de datas dados do tipo datetime. Com o tipo string não é possível fazer operações matematicas de data.\n",
        "#### Entrada: ```2024```\n",
        "\n",
        "\n",
        "#### Saída: Um dataframe igual a esse\n",
        "\n",
        "|    | Col1                | Col2      |\n",
        "|---:|:--------------------|:----------|\n",
        "|  0 | 2024-01-31 00:00:00 | Wednesday |\n",
        "|  1 | 2024-02-29 00:00:00 | Thursday  |\n",
        "|  2 | 2024-03-29 00:00:00 | Friday    |\n",
        "|  3 | 2024-04-30 00:00:00 | Tuesday   |\n",
        "|  4 | 2024-05-31 00:00:00 | Friday    |\n",
        "|  5 | 2024-06-28 00:00:00 | Friday    |\n",
        "|  6 | 2024-07-31 00:00:00 | Wednesday |\n",
        "|  7 | 2024-08-30 00:00:00 | Friday    |\n",
        "|  8 | 2024-09-30 00:00:00 | Monday    |\n",
        "|  9 | 2024-10-31 00:00:00 | Thursday  |\n",
        "| 10 | 2024-11-29 00:00:00 | Friday    |\n",
        "| 11 | 2024-12-31 00:00:00 | Tuesday   |\n"
      ]
    },
    {
      "cell_type": "code",
      "execution_count": 13,
      "metadata": {
        "nbgrader": {
          "grade": false,
          "grade_id": "cell-c705ab9d11473b9f9",
          "locked": false,
          "schema_version": 3,
          "solution": true,
          "task": false
        },
        "id": "nIwk6_SnP60Z"
      },
      "outputs": [],
      "source": [
        "prompt86 = \"\"\"Crie uma função python utilizando pandas e regex, que recebera como  argumento de entrada um ano específico e que retorne um dataframe com 12 linhas e duas colunas , com uma coluna chamada 'Col1' que terá o ultimo dia util de cada mês do ano da entrada, no formato datetime.datetime (YYYY-DD-MM HH:MM:SS) e 'Col2 ' que retornará o dia da semana da data da col1.\n",
        "Utilize 'datetime.datetime' e 'strptime' em col1 e nas funções.\n",
        "Converta 'col1' em datetime64\n",
        "Retorne do dataframe com indice de 0 a 11\n",
        "segue exemplo de aplicação:\n",
        "Entrada: 2024\n",
        "Saída: Um dataframe igual a esse\n",
        "Col1\tCol2\n",
        "0\t2024-01-31 00:00:00\tWednesday\n",
        "1\t2024-02-29 00:00:00\tThursday\n",
        "2\t2024-03-29 00:00:00\tFriday\n",
        "3\t2024-04-30 00:00:00\tTuesday\n",
        "4\t2024-05-31 00:00:00\tFriday\n",
        "5\t2024-06-28 00:00:00\tFriday\n",
        "6\t2024-07-31 00:00:00\tWednesday\n",
        "7\t2024-08-30 00:00:00\tFriday\n",
        "8\t2024-09-30 00:00:00\tMonday\n",
        "9\t2024-10-31 00:00:00\tThursday\n",
        "10\t2024-11-29 00:00:00\tFriday\n",
        "11\t2024-12-31 00:00:00\tTuesday\"\"\""
      ]
    },
    {
      "cell_type": "code",
      "execution_count": 14,
      "metadata": {
        "id": "bzLWdmZNCT90",
        "outputId": "04b3c78a-b7ea-46bf-c8a3-9e6dba295d55",
        "colab": {
          "base_uri": "https://localhost:8080/"
        }
      },
      "outputs": [
        {
          "output_type": "stream",
          "name": "stdout",
          "text": [
            "Codigo gerado: \n",
            "def ultimo_dia_util_por_mes(ano):\n",
            "\n",
            "\n",
            "    # Função para encontrar o último dia útil do mês\n",
            "    def ultimo_dia_util(mes, ano):\n",
            "        ultimo_dia = pd.Timestamp(year=ano, month=mes, day=1) + pd.offsets.MonthEnd(1)\n",
            "        while ultimo_dia.weekday() >= 5:  # 5 e 6 são sábado e domingo\n",
            "            ultimo_dia -= timedelta(days=1)\n",
            "        return ultimo_dia\n",
            "\n",
            "    # Criação das listas para o DataFrame\n",
            "    dias_util = []\n",
            "    dias_da_semana = []\n",
            "\n",
            "    for mes in range(1, 13):\n",
            "        ultimo_dia = ultimo_dia_util(mes, ano)\n",
            "        dias_util.append(ultimo_dia)\n",
            "        dias_da_semana.append(ultimo_dia.strftime('%A'))\n",
            "\n",
            "    # Criação do DataFrame\n",
            "    df = pd.DataFrame({\n",
            "        'Col1': dias_util,\n",
            "        'Col2': dias_da_semana\n",
            "    })\n",
            "\n",
            "    df['Col1'] = pd.to_datetime(df['Col1'])\n",
            "    df.set_index(pd.Index(range(12)), inplace=True)\n",
            "\n",
            "    return df\n",
            "\n",
            "✅ Passed the Test Case!\n",
            "  Expected: {'data': {'aggregation_checks': {'sum': {}, 'total_rows': {'max': 12, 'min': 12}}, 'columns': ['Col1', 'Col2'], 'dtypes': {'Col1': 'datetime64[ns]', 'Col2': 'object'}, 'sample_rows': [{'expected_values': {'Col2': 'Wednesday'}, 'filter': {'Col1': '2024-01-31'}}, {'expected_values': {'Col2': 'Tuesday'}, 'filter': {'Col1': '2024-12-31'}}]}, 'type': 'dataframe', 'validation_rules': {'round_decimals': 1, 'row_match_threshold': 0.01, 'tolerance': 3}}\n",
            "  Delivered: {'aggregation_summary': {'sums': {}, 'total_rows': {'max': 12, 'min': 12}}, 'column_analysis': {'expected_columns': ['Col1', 'Col2'], 'missing_columns': [], 'possible_matches': {}, 'provided_columns': ['Col1', 'Col2'], 'unexpected_columns': []}, 'verified_samples': [{'expected_values': {'Col2': 'Wednesday'}, 'filter': {'Col1': '2024-01-31'}}, {'expected_values': {'Col2': 'Tuesday'}, 'filter': {'Col1': '2024-12-31'}}]}\n"
          ]
        }
      ],
      "source": [
        "validate(prompt86, \"A8-E6\")"
      ]
    },
    {
      "cell_type": "markdown",
      "metadata": {
        "id": "AFrMfPFDAwRv"
      },
      "source": [
        "### 8.7 Escreva um prompt de uma função python para realizar a transformação monstrada no exemplo a seguir.\n",
        "#### **Dica:** O pandas só faz conta de datas dados do tipo datetime. Com o tipo string não é possível fazer operações matematicas de data.\n",
        "#### Entrada:\n",
        "```\n",
        "{\n",
        "    'Start Date': ['2021-05-01', '2021-06-15', '2021-07-20'],\n",
        "    'End Date': ['2021-05-10', '2021-06-25', '2021-08-01']\n",
        "}\n",
        "```\n",
        "\n",
        "#### Saída:\n",
        "\n",
        "|    | Start Date          | End Date            |   Difference |\n",
        "|---:|:--------------------|:--------------------|-------------:|\n",
        "|  0 | 2021-07-20 00:00:00 | 2021-08-01 00:00:00 |           12 |\n"
      ]
    },
    {
      "cell_type": "code",
      "execution_count": null,
      "metadata": {
        "id": "DNVMsFBmJ5vd"
      },
      "outputs": [],
      "source": [
        "d8_7_1 = {\n",
        "    'Start Date': ['2021-05-01', '2021-06-15', '2021-07-20'],\n",
        "    'End Date': ['2021-05-10', '2021-06-25', '2021-08-01']\n",
        "}"
      ]
    },
    {
      "cell_type": "code",
      "execution_count": 15,
      "metadata": {
        "id": "DXVdoZdlCUb3",
        "nbgrader": {
          "grade": false,
          "grade_id": "cell-c705ab9d11473b9f9",
          "locked": false,
          "schema_version": 3,
          "solution": true,
          "task": false
        }
      },
      "outputs": [],
      "source": [
        "prompt87 = \"\"\"Crie uma função python utilizando pandas e regex, que recebera como  argumento de entrada um dicionário. Esse dicionário terá duas chaves 'Star Date' com 3 valores no formato data  e 'End Date' com 3 valores no formato data.,\n",
        "Esta função realiza as seguintes operações:\n",
        "Converte as colunas 'Start Date' e 'End Date' para o tipo datetime, permitindo operações matemáticas com datas.\n",
        "Calcula a diferença em dias entre 'End Date' e 'Start Date' para cada linha.\n",
        "Encontra a linha com a maior diferença de dias.\n",
        "Cria um novo DataFrame contendo apenas a linha com a maior diferença.\n",
        "A função retorna um DataFrame pandas com o formato desejado, mostrando a Start Date, End Date e a Difference para a linha com o maior intervalo de dias.\"\"\""
      ]
    },
    {
      "cell_type": "code",
      "execution_count": 16,
      "metadata": {
        "id": "luQuTo5-CUb5",
        "outputId": "225bbbce-d7ff-4fe4-dd1f-80553b8ef327",
        "colab": {
          "base_uri": "https://localhost:8080/"
        }
      },
      "outputs": [
        {
          "output_type": "stream",
          "name": "stdout",
          "text": [
            "Codigo gerado: \n",
            "def calculate_max_date_difference(date_dict):\n",
            "    df = pd.DataFrame(date_dict)\n",
            "    \n",
            "    df['Start Date'] = pd.to_datetime(df['Start Date'])\n",
            "    df['End Date'] = pd.to_datetime(df['End Date'])\n",
            "    \n",
            "    df['Difference'] = (df['End Date'] - df['Start Date']).dt.days\n",
            "    \n",
            "    max_difference_row = df.loc[df['Difference'].idxmax()]\n",
            "    \n",
            "    result_df = pd.DataFrame({\n",
            "        'Start Date': [max_difference_row['Start Date']],\n",
            "        'End Date': [max_difference_row['End Date']],\n",
            "        'Difference': [max_difference_row['Difference']]\n",
            "    })\n",
            "    \n",
            "    return result_df\n",
            "\n",
            "✅ Passed the Test Case!\n",
            "  Expected: {'data': {'aggregation_checks': {'sum': {'Difference': 12.0}, 'total_rows': {'max': 1, 'min': 1}}, 'columns': ['Start Date', 'End Date', 'Difference'], 'dtypes': {'Difference': 'int64', 'End Date': 'datetime64[ns]', 'Start Date': 'datetime64[ns]'}, 'sample_rows': [{'expected_values': {'Difference': 12}, 'filter': {'Difference': 12}}]}, 'type': 'dataframe', 'validation_rules': {'round_decimals': 1, 'row_match_threshold': 0.01, 'tolerance': 3}}\n",
            "  Delivered: {'aggregation_summary': {'sums': {'Difference': 12.0}, 'total_rows': {'max': 1, 'min': 1}}, 'column_analysis': {'expected_columns': ['Start Date', 'End Date', 'Difference'], 'missing_columns': [], 'possible_matches': {}, 'provided_columns': ['Start Date', 'End Date', 'Difference'], 'unexpected_columns': []}, 'verified_samples': [{'expected_values': {'Difference': 12}, 'filter': {'Difference': 12}}]}\n"
          ]
        }
      ],
      "source": [
        "validate(prompt87, \"A8-E7\")"
      ]
    },
    {
      "cell_type": "markdown",
      "metadata": {
        "id": "rSBuKF2fAwrP"
      },
      "source": [
        "### 8.8 Escreva um prompt de uma função python para realizar a transformação monstrada no exemplo a seguir.\n",
        "#### **Dica:** número de semanas completas\n",
        "#### Entrada 1:\n",
        "```\n",
        "{\n",
        "    'Event': ['Event A', 'Event B', 'Event C'],\n",
        "    'Start Date': ['2023-01-05', '2023-02-15', '2023-07-20'],\n",
        "    'End Date': ['2023-02-10', '2023-03-28', '2023-08-01']\n",
        "}\n",
        "```\n",
        "\n",
        "\n",
        "#### Saída: um dataframe igual a este\n",
        "\n",
        "|    | Event   | Start Date          | End Date            |   Difference |   Full Weeks Difference |\n",
        "|---:|:--------|:--------------------|:--------------------|-------------:|------------------------:|\n",
        "|  0 | Event A | 2023-01-05 00:00:00 | 2023-02-10 00:00:00 |           36 |                       5 |\n",
        "|  1 | Event B | 2023-02-15 00:00:00 | 2023-03-28 00:00:00 |           41 |                       5 |\n",
        "|  2 | Event C | 2023-07-20 00:00:00 | 2023-08-01 00:00:00 |           12 |                       1 |\n",
        "\n"
      ]
    },
    {
      "cell_type": "code",
      "execution_count": null,
      "metadata": {
        "id": "olo5R2k_J4jI"
      },
      "outputs": [],
      "source": [
        "d8_8_1 = {\n",
        "    'Event': ['Event A', 'Event B', 'Event C'],\n",
        "    'Start Date': ['2023-01-05', '2023-02-15', '2023-07-20'],\n",
        "    'End Date': ['2023-02-10', '2023-03-28', '2023-08-01']\n",
        "}"
      ]
    },
    {
      "cell_type": "code",
      "execution_count": 17,
      "metadata": {
        "id": "PseMbwuxCU09",
        "nbgrader": {
          "grade": false,
          "grade_id": "cell-c705ab9d11473b9f9",
          "locked": false,
          "schema_version": 3,
          "solution": true,
          "task": false
        }
      },
      "outputs": [],
      "source": [
        "prompt88 = \"\"\"Crie uma função python utilizando pandas e regex, que recebera como  argumento de entrada um dicionário. Esse dicionário terá tres chaves 'Event', com 3 valores string, 'Star Date' com 3 valores no formato data  e 'End Date' 3 valores no formato data\n",
        "Esta função realizará as seguintes operações:\n",
        "Cria um DataFrame pandas a partir dos dados de entrada.\n",
        "Converte as colunas 'Start Date' e 'End Date' para o tipo datetime, permitindo operações matemáticas com datas.\n",
        "Calcula a diferença em dias entre 'End Date' e 'Start Date' para cada linha e armazena na coluna 'Difference'.\n",
        "Calcula o número de semanas completas entre as datas usando divisão inteira por 7 e armazena na coluna 'Full Weeks Difference'.\n",
        "A função retorna um DataFrame pandas, mostrando o Event, Start Date, End Date, Difference (em dias) e Full Weeks Difference para cada evento.\"\"\""
      ]
    },
    {
      "cell_type": "code",
      "execution_count": 18,
      "metadata": {
        "id": "rN3j4g7TCU1C",
        "outputId": "fce00530-5b2d-4e7c-8219-cdc96aabac3a",
        "colab": {
          "base_uri": "https://localhost:8080/"
        }
      },
      "outputs": [
        {
          "output_type": "stream",
          "name": "stdout",
          "text": [
            "Codigo gerado: \n",
            "def process_event_dates(event_data):\n",
            "    # Criação do DataFrame a partir do dicionário de entrada\n",
            "    df = pd.DataFrame(event_data)\n",
            "    \n",
            "    # Conversão das colunas 'Start Date' e 'End Date' para o tipo datetime\n",
            "    df['Start Date'] = pd.to_datetime(df['Start Date'])\n",
            "    df['End Date'] = pd.to_datetime(df['End Date'])\n",
            "    \n",
            "    # Cálculo da diferença em dias entre 'End Date' e 'Start Date'\n",
            "    df['Difference'] = (df['End Date'] - df['Start Date']).dt.days\n",
            "    \n",
            "    # Cálculo do número de semanas completas entre as datas\n",
            "    df['Full Weeks Difference'] = df['Difference'] // 7\n",
            "    \n",
            "    # Retorno do DataFrame com as informações solicitadas\n",
            "    return df[['Event', 'Start Date', 'End Date', 'Difference', 'Full Weeks Difference']]\n",
            "\n",
            "✅ Passed the Test Case!\n",
            "  Expected: {'data': {'aggregation_checks': {'sum': {'Difference': 89.0, 'Full Weeks Difference': 11.0}, 'total_rows': {'max': 3, 'min': 3}}, 'columns': ['Event', 'Start Date', 'End Date', 'Difference', 'Full Weeks Difference'], 'dtypes': {'Difference': 'int64', 'End Date': 'datetime64[ns]', 'Event': 'object', 'Full Weeks Difference': 'int64', 'Start Date': 'datetime64[ns]'}, 'sample_rows': [{'expected_values': {'Full Weeks Difference': 5}, 'filter': {'Event': 'Event A'}}]}, 'type': 'dataframe', 'validation_rules': {'round_decimals': 1, 'row_match_threshold': 0.01, 'tolerance': 3}}\n",
            "  Delivered: {'aggregation_summary': {'sums': {'Difference': 89.0, 'Full Weeks Difference': 11.0}, 'total_rows': {'max': 3, 'min': 3}}, 'column_analysis': {'expected_columns': ['Event', 'Start Date', 'End Date', 'Difference', 'Full Weeks Difference'], 'missing_columns': [], 'possible_matches': {}, 'provided_columns': ['Event', 'Start Date', 'End Date', 'Difference', 'Full Weeks Difference'], 'unexpected_columns': []}, 'verified_samples': [{'expected_values': {'Full Weeks Difference': 5}, 'filter': {'Event': 'Event A'}}]}\n"
          ]
        }
      ],
      "source": [
        "validate(prompt88, \"A8-E8\")"
      ]
    },
    {
      "cell_type": "code",
      "execution_count": null,
      "metadata": {
        "id": "IoFYhlp1Jnwf"
      },
      "outputs": [],
      "source": []
    },
    {
      "cell_type": "markdown",
      "metadata": {
        "id": "9cTqrAw0IXaY"
      },
      "source": [
        "### Exercício de Reflexão (Facultativo)\n",
        "#### Você aprendeu alguma coisa que pode ser reaproveitado em outros problemas?\n",
        "#### Como você pode melhorar seu processo de elaboração de requisitos / prompts?\n",
        "#### Você notou ambiguidade na sua especificação inicial?"
      ]
    },
    {
      "cell_type": "code",
      "execution_count": 22,
      "metadata": {
        "id": "Y9yjEmHV2nKi"
      },
      "outputs": [],
      "source": [
        "resposta=\"\"\"Sim, aprendi várias coisas que podem ser reaproveitadas em outros problemas:\n",
        "\n",
        "1. Utilização de funções regex para manipulação e validação de strings\n",
        "2. Formatação e cálculos com datas\n",
        "3. Transformação de dicionários em dataframes\n",
        "\n",
        "Essas habilidades são amplamente aplicáveis em diversos cenários de processamento de dados e análise.\n",
        "\n",
        "Para melhorar meu processo de elaboração de requisitos/prompts, percebi que:\n",
        "\n",
        "1. É crucial especificar claramente a estrutura desejada para dicionários, incluindo chaves e tipos de valores esperados\n",
        "2. Detalhar os argumentos de entrada esperados para funções\n",
        "3. Especificar os tipos de dados e formatos desejados para colunas em dataframes\n",
        "\n",
        "A ambiguidade na especificação inicial se tornou evidente quando trabalhei com colegas em um projeto em grupo. O que parecia claro para mim nem sempre era para os outros. Isso me ensinou a importância da comunicação e da empatia na elaboração de requisitos. Agora, antes de finalizar uma especificação, tento vê-la através dos olhos de alguém sem conhecimento prévio do projeto.\n",
        "Olhando para o futuro, vejo essas habilidades técnicas como fundamentais, mas também reconheço a necessidade de desenvolver \"soft skills\" complementares. A capacidade de explicar conceitos complexos de forma simples, colaborar efetivamente e adaptar-se rapidamente a novas ferramentas será tão importante quanto o conhecimento técnico em si.\"\"\""
      ]
    },
    {
      "cell_type": "code",
      "execution_count": 23,
      "metadata": {
        "id": "yLXjtjQaK6V1",
        "outputId": "5ab3ea3d-6ca7-4341-9c87-69f2d918605a",
        "colab": {
          "base_uri": "https://localhost:8080/"
        }
      },
      "outputs": [
        {
          "output_type": "stream",
          "name": "stdout",
          "text": [
            "Chatgpt graded your answer as: True\n",
            "Chatgpt feedback was: The reflection demonstrates a solid depth of understanding with specific concepts such as regex, date manipulation, and data transformation mentioned. The student has effectively connected their technical skills to the broader context of project work, emphasizing the importance of clarity and empathy in communication. The insights about soft skills show originality and a forward-thinking approach that distinguish this reflection from previous ones. Overall, this reflection meets quality standards and presents an original perspective.\n"
          ]
        }
      ],
      "source": [
        "validate(resposta, \"A8-R1\")"
      ]
    }
  ],
  "metadata": {
    "celltoolbar": "Create Assignment",
    "colab": {
      "provenance": [],
      "include_colab_link": true
    },
    "kernelspec": {
      "display_name": "Python 3",
      "language": "python",
      "name": "python3"
    },
    "language_info": {
      "codemirror_mode": {
        "name": "ipython",
        "version": 3
      },
      "file_extension": ".py",
      "mimetype": "text/x-python",
      "name": "python",
      "nbconvert_exporter": "python",
      "pygments_lexer": "ipython3",
      "version": "3.8.3"
    },
    "name": "_merged",
    "varInspector": {
      "cols": {
        "lenName": 16,
        "lenType": 16,
        "lenVar": 40
      },
      "kernels_config": {
        "python": {
          "delete_cmd_postfix": "",
          "delete_cmd_prefix": "del ",
          "library": "var_list.py",
          "varRefreshCmd": "print(var_dic_list())"
        },
        "r": {
          "delete_cmd_postfix": ") ",
          "delete_cmd_prefix": "rm(",
          "library": "var_list.r",
          "varRefreshCmd": "cat(var_dic_list()) "
        }
      },
      "types_to_exclude": [
        "module",
        "function",
        "builtin_function_or_method",
        "instance",
        "_Feature"
      ],
      "window_display": false
    }
  },
  "nbformat": 4,
  "nbformat_minor": 0
}